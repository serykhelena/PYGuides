{
 "cells": [
  {
   "cell_type": "markdown",
   "metadata": {},
   "source": [
    "# Type Hinting"
   ]
  },
  {
   "cell_type": "markdown",
   "metadata": {},
   "source": [
    "Python — язык с динамической типизацией, но все мы периодически ленимся, особенно когда дело доходит до написания комментариев. Поэтому разработчики ядра Python придумали такую штуку, как Type Hinting - \"Подсказыватель типов\". Этот инструмент позволяет писать \"самодокументированный код\". \n",
    "\n",
    "Этот инструмент включён в стандартные библиотеки. Он ни к чему не обязывает, но упрощает чтение кода. \n",
    "\n",
    "Через `:` задаётся тип переменной, который ожидается функцией. \n",
    "\n",
    "После стрелочки `->` идёт тип, который функция возвращает."
   ]
  },
  {
   "cell_type": "code",
   "execution_count": null,
   "metadata": {},
   "outputs": [],
   "source": [
    "import logging\n",
    "\n",
    "logging.basicConfig(level=logging.INFO,\n",
    "                    format='%(asctime)s - %(name)s - %(levelname)s - %(message)s')\n",
    "\n",
    "class Point:\n",
    "    point_type = \"2D\"\n",
    "    \n",
    "    def __init__(self, x: float, y: float) -> None:\n",
    "        self.x = x \n",
    "        self.y = y \n",
    "\n",
    "        self._logger = logging.getLogger(self.__class__.__name__)\n",
    "        self._logger.info('Contructor was called!')\n",
    "    \n",
    "    def get_coordinates(self) -> tuple:\n",
    "        return (self.x, self.y)"
   ]
  },
  {
   "cell_type": "markdown",
   "metadata": {},
   "source": [
    "Однако, если тип будет не соблюдён ошибки не будет. Т.е. подсказыватель скорее даёт описание функции, нежели проверяет логику работы. "
   ]
  },
  {
   "cell_type": "code",
   "execution_count": null,
   "metadata": {},
   "outputs": [],
   "source": [
    "x = int(10)\n",
    "y = float(30.6)\n",
    "\n",
    "new_point = Point(x, y)\n",
    "\n",
    "new_point.get_coordinates()"
   ]
  },
  {
   "cell_type": "markdown",
   "metadata": {},
   "source": [
    "Помимо стандартных типов можно использовать сложные типы из библиотеки [typing](https://docs.python.org/3/library/typing.html). Устанавливать её не нужно, она уже идёт вместе с установкой Python. "
   ]
  },
  {
   "cell_type": "markdown",
   "metadata": {},
   "source": [
    "Например, список - `List`. Здесь есть 2 варианта как аннотировать типы. "
   ]
  },
  {
   "cell_type": "code",
   "execution_count": null,
   "metadata": {},
   "outputs": [],
   "source": [
    "from typing import List\n",
    "\n",
    "def func_1(data: list) -> float:\n",
    "    return max(data)\n",
    "\n",
    "def func_2 (data: List[float]) -> float:\n",
    "    return max(data)"
   ]
  },
  {
   "cell_type": "code",
   "execution_count": null,
   "metadata": {},
   "outputs": [],
   "source": [
    "print(func_1([1.5, 1.0, 2.0]))\n",
    "\n",
    "print(func_2([1.5, 1.0, 2.0]))"
   ]
  },
  {
   "cell_type": "markdown",
   "metadata": {},
   "source": [
    "Можно использовать и так и так, но как по мне, второй вариант более понятный и детальный. Аналогично можно использовать типа: \n",
    "\n",
    "* `Dict`\n",
    "* `Tuple`\n",
    "* `Iterable` \n",
    "\n",
    "и другие. "
   ]
  },
  {
   "cell_type": "markdown",
   "metadata": {},
   "source": [
    "## Links \n",
    "\n",
    "* [PEP484](https://www.python.org/dev/peps/pep-0484/)"
   ]
  }
 ],
 "metadata": {
  "interpreter": {
   "hash": "5772b325a4211fdac5a62aebd1ed22a96c3023968afc51ace629e1d3db0df918"
  },
  "kernelspec": {
   "display_name": "Python 3.8.10 64-bit ('.venv': poetry)",
   "name": "python3"
  },
  "language_info": {
   "codemirror_mode": {
    "name": "ipython",
    "version": 3
   },
   "file_extension": ".py",
   "mimetype": "text/x-python",
   "name": "python",
   "nbconvert_exporter": "python",
   "pygments_lexer": "ipython3",
   "version": "3.8.10"
  }
 },
 "nbformat": 4,
 "nbformat_minor": 2
}
