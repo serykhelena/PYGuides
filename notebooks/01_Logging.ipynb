{
 "cells": [
  {
   "cell_type": "markdown",
   "metadata": {},
   "source": [
    "# Логгирование"
   ]
  },
  {
   "cell_type": "markdown",
   "metadata": {},
   "source": [
    "Логгирование - очень полезный зверь. Все отладочные \"принты\" можно обернуть в логи, и вот у вас уже не куча неудобных и компроментирующих строк текста, а управляемая информация, которую при необходимости можно отключить или записать в файл. "
   ]
  },
  {
   "cell_type": "markdown",
   "metadata": {},
   "source": [
    "## Конфигурация логгера"
   ]
  },
  {
   "cell_type": "markdown",
   "metadata": {},
   "source": [
    "В python есть модуль [`logging`](https://docs.python.org/3/howto/logging.html). Это инструмент для красивой записи логов как в файл, так и в терминал. "
   ]
  },
  {
   "cell_type": "markdown",
   "metadata": {},
   "source": [
    "Конфигурация определяет, какая информация будет отражена в логе. \n",
    "\n",
    "Уровни логов располагаются в следующей последовательности (чем ниже уровень, тем круче его нрав)\n",
    "\n",
    "* DEBUG \n",
    "* INFO \n",
    "* WARNING \n",
    "* CRITICAL\n",
    "* ERROR "
   ]
  },
  {
   "cell_type": "code",
   "execution_count": null,
   "metadata": {},
   "outputs": [],
   "source": [
    "import logging \n",
    "\n",
    "logging.basicConfig(level=logging.INFO,\n",
    "                    format='%(asctime)s - %(name)s - %(levelname)s - %(message)s')"
   ]
  },
  {
   "cell_type": "markdown",
   "metadata": {},
   "source": [
    "Например, здесь\n",
    "\n",
    "```python\n",
    "level=logging.INFO\n",
    "```\n",
    "\n",
    "в конфиге указано, что будут отображаться все сообщения, начиная с уровня `INFO` и ниже, а именно:\n",
    "\n",
    "* `WARNING`\n",
    "* `ERROR`\n",
    "* `CRITICAL`\n",
    "\n",
    "При этом уровень `DEBUG` отображаться не будет.\n",
    "\n",
    "Дальше идёт формат:\n",
    "\n",
    "```python\n",
    "format='%(asctime)s - %(name)s - %(levelname)s - %(message)s'\n",
    "```\n",
    "\n",
    "Он описывает форматирование лога. В примере указано, что сначала в строке пишутся дата и время, затем имя логгера, уровень лога и само сообщение. \n",
    "\n",
    "Формат логгирования можно создавать под себя, не обязательно он должен быть только таким."
   ]
  },
  {
   "cell_type": "markdown",
   "metadata": {},
   "source": [
    "Для каждого из уровней есть соответствующий метод"
   ]
  },
  {
   "cell_type": "code",
   "execution_count": null,
   "metadata": {},
   "outputs": [],
   "source": [
    "logging.debug('This is a debug message')\n",
    "logging.info('This is an info message')\n",
    "logging.warning('This is a warning message')\n",
    "logging.error('This is an error message')\n",
    "logging.critical('This is a critical message')"
   ]
  },
  {
   "cell_type": "markdown",
   "metadata": {},
   "source": [
    "Дату и время в начале сообщений мы видим как раз из-за формата, который мы прописали в конфиге."
   ]
  },
  {
   "cell_type": "markdown",
   "metadata": {},
   "source": [
    "## Класс с логгером"
   ]
  },
  {
   "cell_type": "markdown",
   "metadata": {},
   "source": [
    "Давайте создадим класс, внутри которого будет его личный логгер. "
   ]
  },
  {
   "cell_type": "code",
   "execution_count": null,
   "metadata": {},
   "outputs": [],
   "source": [
    "class Point:\n",
    "    point_type = \"2D\"\n",
    "    \n",
    "    def __init__(self, x: float, y: float) -> None:\n",
    "        self._logger = logging.getLogger(\"point_logger\")\n",
    "        \n",
    "        self.x = x \n",
    "        self.y = y \n",
    "\n",
    "        self._logger.info(\"Point was created successfully!\")\n",
    "        self._logger.debug(\"Debug information!\")\n",
    "    \n",
    "    def get_coordinates(self) -> tuple:\n",
    "        return (self.x, self.y)"
   ]
  },
  {
   "cell_type": "markdown",
   "metadata": {},
   "source": [
    "При создании логгера, его имя можно написать статической строкой, например \"point_logger\". "
   ]
  },
  {
   "cell_type": "code",
   "execution_count": null,
   "metadata": {},
   "outputs": [],
   "source": [
    "point = Point(0, 0)"
   ]
  },
  {
   "cell_type": "markdown",
   "metadata": {},
   "source": [
    "Так как у нас выставлен уровень логгирования: `INFO`, то уровень `DEBUG` показан не будет. "
   ]
  },
  {
   "cell_type": "markdown",
   "metadata": {},
   "source": [
    "Так бывает, что в ходе рефакторинга классы переименовываются, и в нашем случае имя логгера тоже придётся менять руками. Что лень и не всегда можно заметить. Поэтому есть более автоматический способ, как именовать логгер. "
   ]
  },
  {
   "cell_type": "code",
   "execution_count": null,
   "metadata": {},
   "outputs": [],
   "source": [
    "class Point:\n",
    "    point_type = \"2D\"\n",
    "    \n",
    "    def __init__(self, x: float, y: float):\n",
    "        self._logger = logging.getLogger(self.__class__.__name__)\n",
    "        \n",
    "        self.x = x \n",
    "        self.y = y \n",
    "\n",
    "        self._logger.info(\"Point was created successfully!\")\n",
    "        self._logger.debug(\"Debug information!\")\n",
    "    \n",
    "    def get_coordinates(self) -> tuple:\n",
    "        return (self.x, self.y)"
   ]
  },
  {
   "cell_type": "code",
   "execution_count": null,
   "metadata": {},
   "outputs": [],
   "source": [
    "point = Point(0, 0)"
   ]
  },
  {
   "cell_type": "markdown",
   "metadata": {},
   "source": [
    "В этом случае логгер будет всегда иметь имя класса. Если вы поменяете имя класса, то и имя логгера изменится. Das ist удобно! "
   ]
  },
  {
   "cell_type": "markdown",
   "metadata": {},
   "source": [
    "По умолчанию логгер будет писать в стандартный вывод/терминал, но можно перенаправить его, например, в файл. Всё это делается через конфиг: "
   ]
  },
  {
   "cell_type": "code",
   "execution_count": null,
   "metadata": {},
   "outputs": [],
   "source": [
    "logging.basicConfig(filename=\"logs\")"
   ]
  },
  {
   "cell_type": "markdown",
   "metadata": {},
   "source": [
    "## \"Как бы\" приватность"
   ]
  },
  {
   "cell_type": "markdown",
   "metadata": {},
   "source": [
    "В питоне есть договорённость: если нужно показать, что атрибут приватный, то его имя должно начинаться с нижнего подчёркивания. Но при этом, к нему всё ещё можно будет обратиться снаружи, так что это скорее признак хорошего тона. \n",
    "\n",
    "Логгер - это штука внутренняя, которая является личным делом каждого класса, поэтому хорошей практикой является делать его \"как бы\" приватным.\n",
    "\n",
    "```python\n",
    "self._logger = getLogger(self.__class__.__name__)\n",
    "```"
   ]
  },
  {
   "cell_type": "code",
   "execution_count": null,
   "metadata": {},
   "outputs": [],
   "source": [
    "point._logger.info(\"Hello!\")"
   ]
  },
  {
   "cell_type": "markdown",
   "metadata": {},
   "source": [
    "Если хочется чуть больше приватности, то можно добавить два нижних подчёркивания. Тогда уже так просто не получится обратиться к атрибуту извне (язык Питон диктует свои правила). \n",
    "\n",
    "Но в этом случае делать так не рекомендую, так как в Python по-настоящему ничего нельзя спрятать (ограничить доступ). И два нижних подчёркивания будут только сбивать с толку людей, читающих ваш код. "
   ]
  },
  {
   "cell_type": "code",
   "execution_count": null,
   "metadata": {},
   "outputs": [],
   "source": [
    "class Point:\n",
    "    def __init__(self, x: float, y: float) -> None:\n",
    "        self.__logger = logging.getLogger(self.__class__.__name__)\n",
    "        self.x = x \n",
    "        self.y = y \n",
    "\n",
    "        self.__logger.info(\"Point was created successfully!\")\n",
    "    \n",
    "    def get_coordinates(self) -> tuple:\n",
    "        area = self.__calculate_area(self)\n",
    "        return (self.x, self.y, area)"
   ]
  },
  {
   "cell_type": "markdown",
   "metadata": {},
   "source": [
    "Итак, мы сделали \"как бы\" приватный логгер. Давайте попробуем к нему обратиться \"как обычно\" - через точку. "
   ]
  },
  {
   "cell_type": "code",
   "execution_count": null,
   "metadata": {},
   "outputs": [],
   "source": [
    "point = Point(0, 0)\n",
    "\n",
    "point.__logger.info(\"Hello!\")"
   ]
  },
  {
   "cell_type": "markdown",
   "metadata": {},
   "source": [
    "Та-дам! Упала ошибка, которая говорит нам, что в классе Point нет такого логера. В целом, вот оно какое \"ограничение доступа\" в питоне. "
   ]
  },
  {
   "cell_type": "markdown",
   "metadata": {},
   "source": [
    "НО! Главное помнить, что в python НЕТ ПРИВАТНОСТИ! Если очень захотеть, то всё равно можно обратиться ^____^ "
   ]
  },
  {
   "cell_type": "code",
   "execution_count": null,
   "metadata": {},
   "outputs": [],
   "source": [
    "point._Point__logger.info(\"Hello\")"
   ]
  },
  {
   "cell_type": "markdown",
   "metadata": {},
   "source": [
    "Такая запись продиктована метаклассами в языке Python. Почему так и зачем, лучше спросить у создателей языка. \n",
    "\n",
    "И как вы можете видеть, мы легко и играючи обратились к \"как бы приватному\" аттрибуту класса. Так что, привыкайте к питонячному эксгибиционизму - все и всегда всё видят (="
   ]
  },
  {
   "cell_type": "markdown",
   "metadata": {},
   "source": [
    "## PEP"
   ]
  },
  {
   "cell_type": "markdown",
   "metadata": {},
   "source": [
    "В Python для всего есть набор правил (рекомендаций) - PEP = Python Enhancement Proposal. \n",
    "\n",
    "Для логгирования, конечно же, тоже есть - [PEP282](https://www.python.org/dev/peps/pep-0282/).\n",
    "\n",
    "Не бойтесь просматривать такие файлы, это не сухие ГОСТы, а документация, написанная человеческим языком. "
   ]
  },
  {
   "cell_type": "markdown",
   "metadata": {},
   "source": []
  },
  {
   "cell_type": "markdown",
   "metadata": {},
   "source": []
  }
 ],
 "metadata": {
  "interpreter": {
   "hash": "34c635c84616f3a4480481715ba1e3be1dbeefd6854b0fa1993fac6b8836a8b2"
  },
  "kernelspec": {
   "display_name": "Python 3.8.12 64-bit ('.venv': poetry)",
   "name": "python3"
  },
  "language_info": {
   "codemirror_mode": {
    "name": "ipython",
    "version": 3
   },
   "file_extension": ".py",
   "mimetype": "text/x-python",
   "name": "python",
   "nbconvert_exporter": "python",
   "pygments_lexer": "ipython3",
   "version": "3.8.14"
  }
 },
 "nbformat": 4,
 "nbformat_minor": 2
}
