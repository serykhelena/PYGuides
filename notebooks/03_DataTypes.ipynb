{
 "cells": [
  {
   "cell_type": "markdown",
   "metadata": {},
   "source": [
    "# Типы данных"
   ]
  },
  {
   "cell_type": "markdown",
   "metadata": {},
   "source": [
    "* ВСЁ в питоне ОБЪЕКТ \n",
    "\n",
    "* Есть турбо-мега-мета-главный тип - `object` \n",
    "* Все остальные типы наследуются от него по умолчанию \n",
    "\n",
    "Каждый объект (тип) в питоне имеет 2 обязательных поля: \n",
    "- количество ссылок, указывающих на этот объект \n",
    "- тип объекта "
   ]
  },
  {
   "cell_type": "markdown",
   "metadata": {},
   "source": [
    "## Типы данных\n",
    "\n",
    "| Изменяемые            | Неизменяемые              |\n",
    "|:---------------------:|:-------------------------:|\n",
    "| (Mutable)             |(Immutable)                |\n",
    "| list (список)         | number (числа)            | \n",
    "| dict (словарь)        | string (строка)           | \n",
    "| class (класс)         | tuple (кортеж)            |\n",
    "| set (множество)       | frozen set                |\n",
    "|<img width=300/>       |<img width=300/>           |\n",
    "\n",
    "---\n",
    "| Изменяемые            | Неизменяемые              |\n",
    "|:---------------------:|:-------------------------:|\n",
    "| передаются по ссылке  | независимая копия         |\n",
    "| кушают меньше памяти  | ускоряют работу           |              \n",
    "|<img width=300/>       |<img width=300/>           |\n"
   ]
  },
  {
   "cell_type": "code",
   "execution_count": null,
   "metadata": {},
   "outputs": [],
   "source": [
    "my_list_1 = [1, 2, 3, 4]\n",
    "print(f'my list 1: {my_list_1}')\n",
    "\n",
    "my_list_2 = my_list_1 \n",
    "my_list_2[0] = 200 \n",
    "\n",
    "print(f\"my list 2: {my_list_2}\")\n",
    "print(f\"my list 1: {my_list_1}\")"
   ]
  },
  {
   "cell_type": "code",
   "execution_count": null,
   "metadata": {},
   "outputs": [],
   "source": [
    "my_list_1 = [1, 2, 3, 4]\n",
    "print(f'my list 1: {my_list_1}')\n",
    "\n",
    "my_list_2 = my_list_1.copy() \n",
    "my_list_2[0] = 200 \n",
    "\n",
    "print(f\"my list 2: {my_list_2}\")\n",
    "print(f\"my list 1: {my_list_1}\")"
   ]
  },
  {
   "cell_type": "code",
   "execution_count": null,
   "metadata": {},
   "outputs": [],
   "source": [
    "str_1 = \"Bazinga\"\n",
    "print(f'String 1: {str_1}')\n",
    "\n",
    "str_2 = str_1\n",
    "str_2 += \" , Sheldon\"\n",
    "print(f'String 2: {str_2}')\n",
    "print(f'String 1: {str_1}')"
   ]
  },
  {
   "cell_type": "markdown",
   "metadata": {},
   "source": [
    "* Питон ничего не копирует пока мы его не попросим. \n",
    "* Если надо копировать, то copy() или deepcopy()\n",
    "---"
   ]
  },
  {
   "cell_type": "markdown",
   "metadata": {},
   "source": [
    "## Изменяемые типы данных"
   ]
  },
  {
   "cell_type": "markdown",
   "metadata": {},
   "source": [
    "### List (Список)\n",
    "\n",
    "* Список = **динамический** массив (размер растёт как: 0, 4, 8, 16 , 25, 35…)\n",
    "* доступ к объекту за O(1)\n",
    "* поиск O(n)"
   ]
  },
  {
   "cell_type": "code",
   "execution_count": null,
   "metadata": {},
   "outputs": [],
   "source": [
    "my_list = [] \n",
    "\n",
    "my_list[0]"
   ]
  },
  {
   "cell_type": "code",
   "execution_count": null,
   "metadata": {},
   "outputs": [],
   "source": [
    "my_list = [0] * 6\n",
    "my_list"
   ]
  },
  {
   "cell_type": "code",
   "execution_count": null,
   "metadata": {},
   "outputs": [],
   "source": [
    "my_list[4] = 200 \n",
    "my_list"
   ]
  },
  {
   "cell_type": "code",
   "execution_count": null,
   "metadata": {},
   "outputs": [],
   "source": [
    "my_list = [None] * 6 \n",
    "my_list"
   ]
  },
  {
   "cell_type": "markdown",
   "metadata": {},
   "source": [
    "### Dict (Словарь)\n",
    "\n",
    "* Словарь = хэш-таблица (хэш функция даёт хэш и по хэшу находим ячейку).\n",
    "\n",
    "<center><img src=\"https://github.com/serykhelena/PYGuides/blob/main/notebooks/assets/03_hash.png?raw=true\" width=600/></center>\n",
    "\n",
    "* в идеале доступ к объекту за O(1) всегда\n",
    "* поиск O(1) (в идеале)\n",
    "* Чтобы работали хэш таблицы, нужна функция сравнения элементов (если была коллизия, например).\n",
    "*  На деле функция сравнения может быть очень дорогой\n",
    "\n",
    "Ключами в dict могут быть только объекты, у которых:\n",
    "* есть хэш,\n",
    "* которые не изменяются во время жизни\n",
    "* только неизменяемые объекты удовлетворяют этим условиям "
   ]
  },
  {
   "cell_type": "code",
   "execution_count": null,
   "metadata": {},
   "outputs": [],
   "source": [
    "# key = number \n",
    "my_dict = {\n",
    "    1: 'a', 2: 'b'\n",
    "}\n",
    "\n",
    "my_dict"
   ]
  },
  {
   "cell_type": "code",
   "execution_count": null,
   "metadata": {},
   "outputs": [],
   "source": [
    "# key = string \n",
    "my_dict = {\n",
    "    '1': 'a', '2': 'b'\n",
    "}\n",
    "\n",
    "my_dict"
   ]
  },
  {
   "cell_type": "code",
   "execution_count": null,
   "metadata": {},
   "outputs": [],
   "source": [
    "my_dict = {\n",
    "    '1': ['a', 2, 3], '2': 'b'\n",
    "}\n",
    "my_dict"
   ]
  },
  {
   "cell_type": "code",
   "execution_count": null,
   "metadata": {},
   "outputs": [],
   "source": [
    "# key = tuple\n",
    "my_dict = {\n",
    "    (1, 2): 'a', ('q', 2): 'b', ('3', '4'): 'c'\n",
    "}\n",
    "\n",
    "my_dict"
   ]
  },
  {
   "cell_type": "code",
   "execution_count": null,
   "metadata": {},
   "outputs": [],
   "source": [
    "# key != list\n",
    "my_dict = {\n",
    "    [1, 2]: 'a'\n",
    "}"
   ]
  },
  {
   "cell_type": "code",
   "execution_count": null,
   "metadata": {},
   "outputs": [],
   "source": [
    "# key != set\n",
    "my_dict = {\n",
    "    set([1, 2]): 'a'\n",
    "}"
   ]
  },
  {
   "cell_type": "code",
   "execution_count": null,
   "metadata": {},
   "outputs": [],
   "source": [
    "# key != dict \n",
    "my_dict = {\n",
    "    {1: 'w'}: 'a'\n",
    "}"
   ]
  },
  {
   "cell_type": "markdown",
   "metadata": {},
   "source": [
    "### Set (множество)\n",
    "\n",
    "* хранит уникальные значения (БЕЗ ПОВТОРЕНИЙ)\n",
    "* не сохраняет порядок! (сортирует по-своему)\n",
    "* поддерживает операции между множествами (пересечение, объединение и т.д.)\n",
    "* можно добавить или обновить"
   ]
  },
  {
   "cell_type": "code",
   "execution_count": null,
   "metadata": {},
   "outputs": [],
   "source": [
    "my_set = set([100, 1, 2, 4, 4])\n",
    "my_set"
   ]
  },
  {
   "cell_type": "code",
   "execution_count": null,
   "metadata": {},
   "outputs": [],
   "source": [
    "my_set = {100, 1, 2, 4, 4}\n",
    "my_set"
   ]
  },
  {
   "cell_type": "code",
   "execution_count": null,
   "metadata": {},
   "outputs": [],
   "source": [
    "another_set = set([3, 3, 5, 6])\n",
    "another_set"
   ]
  },
  {
   "cell_type": "code",
   "execution_count": null,
   "metadata": {},
   "outputs": [],
   "source": [
    "my_set == another_set"
   ]
  },
  {
   "cell_type": "code",
   "execution_count": null,
   "metadata": {},
   "outputs": [],
   "source": [
    "my_set.add(6)\n",
    "my_set"
   ]
  },
  {
   "cell_type": "code",
   "execution_count": null,
   "metadata": {},
   "outputs": [],
   "source": [
    "my_set.add('z')\n",
    "my_set"
   ]
  },
  {
   "cell_type": "code",
   "execution_count": null,
   "metadata": {},
   "outputs": [],
   "source": [
    "my_set.update([3, 7])\n",
    "\n",
    "my_set"
   ]
  },
  {
   "cell_type": "code",
   "execution_count": null,
   "metadata": {},
   "outputs": [],
   "source": [
    "# объединение \n",
    "print(\"my_set | qnother_set = \", my_set | another_set)\n",
    "\n",
    "\n",
    "print(\"my_set.union(another_set) = \", my_set.union(another_set))"
   ]
  },
  {
   "cell_type": "code",
   "execution_count": null,
   "metadata": {},
   "outputs": [],
   "source": [
    "# пересечение \n",
    "print(\"my_set & another_set = \", my_set & another_set)\n",
    "\n",
    "print(\"my_set.intersection(another_set) = \", my_set.intersection(another_set))"
   ]
  },
  {
   "cell_type": "markdown",
   "metadata": {},
   "source": [
    "## Неизменяемые типы данных"
   ]
  },
  {
   "cell_type": "markdown",
   "metadata": {},
   "source": [
    "### Tuple (кортеж)\n",
    "\n",
    "* может хранить разныети типы данных (как и список)\n",
    "* НЕЛЬЗЯ изменять данные в кортеже"
   ]
  },
  {
   "cell_type": "code",
   "execution_count": null,
   "metadata": {},
   "outputs": [],
   "source": [
    "my_tuple = (1, \"a\", \"hello\", 50000)\n",
    "\n",
    "my_tuple"
   ]
  },
  {
   "cell_type": "code",
   "execution_count": null,
   "metadata": {},
   "outputs": [],
   "source": [
    "my_tuple[3]"
   ]
  },
  {
   "cell_type": "code",
   "execution_count": null,
   "metadata": {},
   "outputs": [],
   "source": [
    "my_tuple[0] = 345678"
   ]
  },
  {
   "cell_type": "markdown",
   "metadata": {},
   "source": [
    "### Frozen Set \n",
    "\n",
    "* неизменяемое множество \n",
    "* в остальном такое же как set "
   ]
  },
  {
   "cell_type": "code",
   "execution_count": null,
   "metadata": {},
   "outputs": [],
   "source": [
    "my_frozen_set = frozenset([1, 3, 3, 5, 7])\n",
    "my_frozen_set"
   ]
  },
  {
   "cell_type": "code",
   "execution_count": null,
   "metadata": {},
   "outputs": [],
   "source": [
    "my_frozen_set.add(8)"
   ]
  },
  {
   "cell_type": "code",
   "execution_count": null,
   "metadata": {},
   "outputs": [],
   "source": []
  }
 ],
 "metadata": {
  "interpreter": {
   "hash": "5772b325a4211fdac5a62aebd1ed22a96c3023968afc51ace629e1d3db0df918"
  },
  "kernelspec": {
   "display_name": "Python 3.8.10 64-bit ('.venv': poetry)",
   "name": "python3"
  },
  "language_info": {
   "codemirror_mode": {
    "name": "ipython",
    "version": 3
   },
   "file_extension": ".py",
   "mimetype": "text/x-python",
   "name": "python",
   "nbconvert_exporter": "python",
   "pygments_lexer": "ipython3",
   "version": "3.8.10"
  }
 },
 "nbformat": 4,
 "nbformat_minor": 2
}
