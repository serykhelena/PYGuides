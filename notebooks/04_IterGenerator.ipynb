{
 "cells": [
  {
   "cell_type": "markdown",
   "metadata": {},
   "source": [
    "# Виды строк"
   ]
  },
  {
   "cell_type": "markdown",
   "metadata": {},
   "source": [
    "* привычные строки "
   ]
  },
  {
   "cell_type": "code",
   "execution_count": null,
   "metadata": {},
   "outputs": [],
   "source": [
    "my_string = \"Hello, people\"\n",
    "\n",
    "my_string"
   ]
  },
  {
   "cell_type": "markdown",
   "metadata": {},
   "source": [
    "* raw-строки \n",
    "    * отключено экранирование символов \n",
    "    * используется для путей и для регулярных выражений "
   ]
  },
  {
   "cell_type": "code",
   "execution_count": null,
   "metadata": {},
   "outputs": [],
   "source": [
    "raw_str = r'C:\\file.txt'\n",
    "raw_str"
   ]
  },
  {
   "cell_type": "markdown",
   "metadata": {},
   "source": [
    "* строковые литералы (docstring)"
   ]
  },
  {
   "cell_type": "code",
   "execution_count": null,
   "metadata": {},
   "outputs": [],
   "source": [
    "str_literal = ''' <div> < a href = .../> /> '''\n",
    "str_literal"
   ]
  },
  {
   "cell_type": "markdown",
   "metadata": {},
   "source": [
    "# Лямбда выражения (анонимные функции)"
   ]
  },
  {
   "cell_type": "markdown",
   "metadata": {},
   "source": [
    "* укорачивает кода\n",
    "* не надо хранить статическую функцию в памяти"
   ]
  },
  {
   "cell_type": "code",
   "execution_count": null,
   "metadata": {},
   "outputs": [],
   "source": [
    "my_list = [1, 2, 3, 4]\n",
    "\n",
    "list(map(lambda x: x%2 == 0, my_list))"
   ]
  },
  {
   "cell_type": "code",
   "execution_count": null,
   "metadata": {},
   "outputs": [],
   "source": [
    "list(map(lambda x: x if x%2 == 0 else None, my_list))"
   ]
  },
  {
   "cell_type": "code",
   "execution_count": null,
   "metadata": {},
   "outputs": [],
   "source": [
    "my_func = lambda x: x + 1 \n",
    "\n",
    "my_func(3)"
   ]
  },
  {
   "cell_type": "code",
   "execution_count": null,
   "metadata": {},
   "outputs": [],
   "source": [
    "import pandas as pd \n",
    "\n",
    "df = pd.DataFrame([1, 2, 3, 4], columns=[\"numbers\"])\n",
    "df.head()"
   ]
  },
  {
   "cell_type": "code",
   "execution_count": null,
   "metadata": {},
   "outputs": [],
   "source": [
    "df.apply(lambda x: x / 2)"
   ]
  },
  {
   "cell_type": "markdown",
   "metadata": {},
   "source": [
    "# Итератор"
   ]
  },
  {
   "cell_type": "markdown",
   "metadata": {},
   "source": [
    "* Всё, где используется `for … in … ` - это итератор (итерируемый объект)\n",
    "\n",
    "* можно итерироваться по объекту, даже если не знаешь его размер"
   ]
  },
  {
   "cell_type": "code",
   "execution_count": null,
   "metadata": {},
   "outputs": [],
   "source": [
    "n_list = [1, 2, 3]\n",
    "for i in n_list:\n",
    "\tprint(i)       # 1 2 3 \n"
   ]
  },
  {
   "cell_type": "markdown",
   "metadata": {},
   "source": [
    "* под капотом используется функция `iter()`"
   ]
  },
  {
   "cell_type": "code",
   "execution_count": null,
   "metadata": {},
   "outputs": [],
   "source": [
    "itr = iter(n_list) \n",
    "\n",
    "itr"
   ]
  },
  {
   "cell_type": "code",
   "execution_count": null,
   "metadata": {},
   "outputs": [],
   "source": [
    "itr = iter(n_list) \n",
    "\n",
    "print(next(itr))\t# 1\n",
    "print(next(itr))\t# 2\n",
    "print(next(itr))\t# 3\n",
    "print(next(itr))\t# StopIteration "
   ]
  },
  {
   "cell_type": "code",
   "execution_count": null,
   "metadata": {},
   "outputs": [],
   "source": [
    "class MyClass:\n",
    "    def __init__(self, names: list):\n",
    "        self.names = names "
   ]
  },
  {
   "cell_type": "code",
   "execution_count": null,
   "metadata": {},
   "outputs": [],
   "source": [
    "my_class = MyClass(['Lena', 'Akram', 'Ivan'])\n",
    "\n",
    "for name in my_class:\n",
    "    print(name)"
   ]
  },
  {
   "cell_type": "code",
   "execution_count": null,
   "metadata": {},
   "outputs": [],
   "source": [
    "class MyClass:\n",
    "    def __init__(self, names: list):\n",
    "        self.names = names \n",
    "        self.ind = 0\n",
    "    \n",
    "    def __iter__(self):\n",
    "        return self \n",
    "    \n",
    "    def __next__(self):\n",
    "        ind = self.ind \n",
    "        if ind == len(self.names):\n",
    "            raise StopIteration\n",
    "        \n",
    "        self.ind += 1 \n",
    "        return self.names[ind]"
   ]
  },
  {
   "cell_type": "code",
   "execution_count": null,
   "metadata": {},
   "outputs": [],
   "source": [
    "my_class = MyClass(['Lena', 'Akram', 'Ivan'])\n",
    "\n",
    "for name in my_class:\n",
    "    print(name)"
   ]
  },
  {
   "cell_type": "markdown",
   "metadata": {},
   "source": [
    "# Генератор\n",
    "\n",
    "* функция, которая запоминает свой контекст, можно его вернуть с помощью слова yield\n",
    "* фунция, которая будучи вызвана в next() возвращает следующий объект. \n",
    "* return ⇢ yield \n",
    "* ! При вызове yield функция не прекращает свою работу, а “замораживается” до очередной итерации, запускаемой next() \n",
    "* в генераторе хранится FrameObject \n",
    "* в CodeObject есть специальный флаг, который говорит питону, что это генератор \n"
   ]
  },
  {
   "cell_type": "code",
   "execution_count": null,
   "metadata": {},
   "outputs": [],
   "source": [
    "nums = range(10)\n",
    "\n",
    "nums, type(nums)"
   ]
  },
  {
   "cell_type": "code",
   "execution_count": null,
   "metadata": {},
   "outputs": [],
   "source": [
    "# generator expression\n",
    "gen_exp = (n**2 for n in nums if n%2 == 0)\n",
    "\n",
    "gen_exp"
   ]
  },
  {
   "cell_type": "code",
   "execution_count": null,
   "metadata": {},
   "outputs": [],
   "source": [
    "# generator function\n",
    "def square_all(numbers):\n",
    "    for num in numbers:\n",
    "        yield num ** 2\n",
    "\n",
    "gen_func = square_all(nums)"
   ]
  },
  {
   "cell_type": "code",
   "execution_count": null,
   "metadata": {},
   "outputs": [],
   "source": [
    "next(gen_func), next(gen_func), next(gen_func)"
   ]
  },
  {
   "cell_type": "code",
   "execution_count": null,
   "metadata": {},
   "outputs": [],
   "source": [
    "next(gen_exp), next(gen_exp), next(gen_exp)"
   ]
  },
  {
   "cell_type": "markdown",
   "metadata": {},
   "source": [
    "* Сокращает использование памяти! (т.к. обрабатывает не сразу весь список, а по одному значению за раз, т.е. не хранит в памяти ВСЁ)"
   ]
  }
 ],
 "metadata": {
  "interpreter": {
   "hash": "5772b325a4211fdac5a62aebd1ed22a96c3023968afc51ace629e1d3db0df918"
  },
  "kernelspec": {
   "display_name": "Python 3.8.10 64-bit ('.venv': poetry)",
   "name": "python3"
  },
  "language_info": {
   "codemirror_mode": {
    "name": "ipython",
    "version": 3
   },
   "file_extension": ".py",
   "mimetype": "text/x-python",
   "name": "python",
   "nbconvert_exporter": "python",
   "pygments_lexer": "ipython3",
   "version": "3.8.10"
  }
 },
 "nbformat": 4,
 "nbformat_minor": 2
}
