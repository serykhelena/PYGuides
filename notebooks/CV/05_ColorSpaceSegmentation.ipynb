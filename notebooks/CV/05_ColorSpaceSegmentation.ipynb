{
 "cells": [
  {
   "cell_type": "code",
   "execution_count": null,
   "metadata": {},
   "outputs": [],
   "source": [
    "import os \n",
    "\n",
    "import cv2 \n",
    "import matplotlib.pyplot as plt \n",
    "import numpy as np\n",
    "\n",
    "# Эти библиотеки нужны для 3Д визуализации\n",
    "from mpl_toolkits.mplot3d import Axes3D\n",
    "from matplotlib import cm\n",
    "from matplotlib import colors"
   ]
  },
  {
   "cell_type": "markdown",
   "metadata": {},
   "source": [
    "## Загрузка данных \n",
    "\n",
    "Чтобы пощупать сегментацию на базе цветового пространства, мы будем использовать [маленький датасет с рыбами-клоунами](https://github.com/realpython/materials/tree/master/opencv-color-spaces). \n",
    "\n",
    "> Нужно скачать папку images, переименовать её в `clownfishes`, и положить её в папку `/notebook/CV/data`.  "
   ]
  },
  {
   "cell_type": "markdown",
   "metadata": {},
   "source": [
    "Давайте загрузим первую картинку."
   ]
  },
  {
   "cell_type": "code",
   "execution_count": null,
   "metadata": {},
   "outputs": [],
   "source": [
    "fpath = os.path.join(os.curdir, \"data\", \"clownfishes\", \"nemo0.jpg\")\n",
    "original_image = cv2.imread(fpath)\n",
    "original_image = cv2.cvtColor(original_image, cv2.COLOR_BGR2RGB)\n",
    "plt.figure(figsize=[8, 6])\n",
    "plt.imshow(original_image)\n",
    "plt.show()"
   ]
  },
  {
   "cell_type": "markdown",
   "metadata": {},
   "source": [
    "## Визуализация Немо в RGB-пространстве "
   ]
  },
  {
   "cell_type": "markdown",
   "metadata": {},
   "source": [
    "Пространство `HSV` - это хороший выбор для сегментации цветов, но чтобы понять почему, давайте сначала сравним изображение в `RGB` с изображением в `HSV` пространстве при помощи визуализации распределения цветов. "
   ]
  },
  {
   "cell_type": "code",
   "execution_count": null,
   "metadata": {},
   "outputs": [],
   "source": [
    "r, g, b = cv2.split(original_image)\n",
    "\n",
    "fig = plt.figure(figsize=[8, 6])\n",
    "axis = fig.add_subplot(1, 1, 1, projection=\"3d\")\n",
    "pixel_colors = original_image.reshape((np.shape(original_image)[0]*np.shape(original_image)[1], 3))\n",
    "norm = colors.Normalize(vmin=-1.,vmax=1.)\n",
    "norm.autoscale(pixel_colors)\n",
    "pixel_colors = norm(pixel_colors).tolist()\n",
    "axis.scatter(r.flatten(), g.flatten(), b.flatten(), facecolors=pixel_colors, marker=\".\")\n",
    "axis.set_xlabel(\"Red\")\n",
    "axis.set_ylabel(\"Green\")\n",
    "axis.set_zlabel(\"Blue\")\n",
    "plt.show()"
   ]
  },
  {
   "cell_type": "markdown",
   "metadata": {},
   "source": [
    "Из этого графика видно, что оранжевая часть картинки размазана почти по всему диапазону красных, зелёных и синих значений. \n",
    "\n",
    "Поскольку тело рыбки Немо заполняет почти весь график, то сегментировать его тело на базе RGB пространства будет довольно сложно. "
   ]
  },
  {
   "cell_type": "markdown",
   "metadata": {},
   "source": [
    "## Визуализация Немо в HSV-пространстве "
   ]
  },
  {
   "cell_type": "markdown",
   "metadata": {},
   "source": [
    "В RGB на рыбку мы посмотрели, давайте получим такой же график, но в HSV. \n",
    "\n",
    "Давайте сконвертируем рыбку из RGB в HSV "
   ]
  },
  {
   "cell_type": "code",
   "execution_count": null,
   "metadata": {},
   "outputs": [],
   "source": [
    "hsv_nemo = cv2.cvtColor(original_image, cv2.COLOR_RGB2HSV)\n",
    "\n",
    "plt.figure(figsize=[8, 6])\n",
    "plt.imshow(hsv_nemo)\n",
    "plt.title(\"HSV Image\")\n",
    "plt.show()"
   ]
  },
  {
   "cell_type": "markdown",
   "metadata": {},
   "source": [
    "И получим такой же график распределения значений. "
   ]
  },
  {
   "cell_type": "code",
   "execution_count": null,
   "metadata": {},
   "outputs": [],
   "source": [
    "h, s, v = cv2.split(hsv_nemo)\n",
    "fig = plt.figure(figsize=[8, 6])\n",
    "axis = fig.add_subplot(1, 1, 1, projection=\"3d\")\n",
    "\n",
    "axis.scatter(h.flatten(), s.flatten(), v.flatten(), facecolors=pixel_colors, marker=\".\")\n",
    "axis.set_xlabel(\"Hue\")\n",
    "axis.set_ylabel(\"Saturation\")\n",
    "axis.set_zlabel(\"Value\")\n",
    "plt.show()"
   ]
  },
  {
   "cell_type": "markdown",
   "metadata": {},
   "source": [
    "В пространстве HSV оранжевый цвет рыбки намного более локализован и визуально его легко отдель от остальных цветов. \n",
    "\n",
    "Насыщенность и яркость оранжевого цвета действительно различаются, но всё же основное количество цвета расположено в небольшом диапазоне по оси тона (Hue). \n",
    "\n",
    "Это и является ключевым моментом, который можно использовать для сегментации рыбки."
   ]
  },
  {
   "cell_type": "markdown",
   "metadata": {},
   "source": [
    "## Выбор пороговых значений для цветов"
   ]
  },
  {
   "cell_type": "markdown",
   "metadata": {},
   "source": [
    "Давайте подберём пороговое значение для оранжевого цвета в Немо. "
   ]
  },
  {
   "cell_type": "markdown",
   "metadata": {},
   "source": [
    "## Полезные ссылки \n",
    "\n",
    "* [RealPython статья](https://realpython.com/python-opencv-color-spaces/)"
   ]
  },
  {
   "cell_type": "markdown",
   "metadata": {},
   "source": []
  }
 ],
 "metadata": {
  "interpreter": {
   "hash": "2fd45e946831774ddfcd125e9e51f058dbdc3a675e5a7bd36f9bb6e88f24d42e"
  },
  "kernelspec": {
   "display_name": "Python 3.8.10 64-bit ('.venv': poetry)",
   "language": "python",
   "name": "python3"
  },
  "language_info": {
   "codemirror_mode": {
    "name": "ipython",
    "version": 3
   },
   "file_extension": ".py",
   "mimetype": "text/x-python",
   "name": "python",
   "nbconvert_exporter": "python",
   "pygments_lexer": "ipython3",
   "version": "3.8.10"
  }
 },
 "nbformat": 4,
 "nbformat_minor": 2
}
