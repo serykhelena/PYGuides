{
 "cells": [
  {
   "cell_type": "markdown",
   "metadata": {},
   "source": [
    "# Маски и логические операции"
   ]
  },
  {
   "cell_type": "markdown",
   "metadata": {},
   "source": [
    "Давайте представим, что мы хотим как-то по-хитрому обрезать картинку или выделить на изображении объект, который обладает сложной формой. В этом случае простые фигуры, так как прямогульники и окружности, нам уже не очень помогут. \n",
    "Но зато помогут маски и логические операции."
   ]
  },
  {
   "cell_type": "markdown",
   "metadata": {},
   "source": [
    "## Логические операции\n",
    "\n",
    "Существуюи следующие логические операции: \n",
    "* Логическое И \n",
    "* Логическое ИЛИ \n",
    "* Исключающее ИЛИ \n",
    "* НЕ \n",
    "\n",
    "Знакомо, не правда ли? \n",
    "\n",
    "Если не очень - не беда, можно почитать [здесь](https://realpython.com/python-bitwise-operators/). \n",
    "\n",
    "На самом деле логические операторы с изображениями, работают точно также как и с числами. "
   ]
  },
  {
   "cell_type": "markdown",
   "metadata": {},
   "source": [
    "Логические операторы работают в бинарном виде (то есть с 0 и 1). \n",
    "\n",
    "Матрица, которая содержит одну размерность = т.е. один канал и которая состоит из 0-й и 1-ц называется бинарным изображением. Если вывести такую матрицу в виде изображения, то мы увидим картинку в оттенках серого. \n",
    "\n",
    "Если пиксель равен нулю - то мы как бы \"выключаем\" его, а если пиксель равен одному (или больше единицы), то он имеет для нас ценность (то есть мы его \"включаем\"). \n",
    "\n",
    "Давайте пощупаем код"
   ]
  },
  {
   "cell_type": "code",
   "execution_count": null,
   "metadata": {},
   "outputs": [],
   "source": [
    "import cv2 \n",
    "import numpy as np\n",
    "import matplotlib.pyplot as plt"
   ]
  },
  {
   "cell_type": "code",
   "execution_count": null,
   "metadata": {},
   "outputs": [],
   "source": [
    "# Создадим квадратную матрицу, заполненную нулями \n",
    "rectangle = np.zeros((300, 300), dtype=\"uint8\")\n",
    "# в этой матрице \"нарисуем\" прямоугольник и заполмним его значением 255\n",
    "cv2.rectangle(rectangle, (25, 25), (275, 275), 255, -1)\n",
    "\n",
    "plt.figure(figsize=[6, 6])\n",
    "plt.title(\"Квадрат\")\n",
    "plt.imshow(rectangle, cmap=\"gray\")\n",
    "plt.show()"
   ]
  },
  {
   "cell_type": "code",
   "execution_count": null,
   "metadata": {},
   "outputs": [],
   "source": [
    "# А теперь давайте нарисуем окружность\n",
    "# Создадим квадртаную матрицу - это будет наш фон \n",
    "circle = np.zeros((300, 300), dtype = \"uint8\")\n",
    "# Рисуем \n",
    "cv2.circle(circle, (150, 150), 150, 255, -1)\n",
    "\n",
    "# Показываем\n",
    "plt.figure(figsize=[6, 6])\n",
    "plt.title(\"Окружность\")\n",
    "plt.imshow(circle, cmap=\"gray\")\n",
    "plt.show()"
   ]
  },
  {
   "cell_type": "markdown",
   "metadata": {},
   "source": [
    "Зачем же мы сделали такие примитичные картинки, можете спросить вы? \n",
    "А зачем, чтобы показать, что бинарная картинка - это не всегда 0 и 1, это могут быть и другие числа. \n",
    "Но всегда \"выключенные\" пиксели будут иметь значение 0, а \"включённые\" пиксели какое-то другое значение. Но при этом, количество уникальных значений пикселей должно быть 2, иначе как-то не очень бинарно получится. \n",
    "\n",
    "Теперь разобравшись с бинарными картинками, давайте перейдём к логическим операциям. "
   ]
  },
  {
   "cell_type": "code",
   "execution_count": null,
   "metadata": {},
   "outputs": [],
   "source": [
    "# Логическое И \n",
    "# Давайте соединим наш квадрат и окружность \n",
    "bitwiseAnd = cv2.bitwise_and(rectangle, circle)\n",
    "\n",
    "plt.figure(figsize=[6, 6])\n",
    "plt.title(\"Логическое И\")\n",
    "plt.imshow(bitwiseAnd, cmap=\"gray\")\n",
    "plt.show()"
   ]
  },
  {
   "cell_type": "markdown",
   "metadata": {},
   "source": [
    "Вот и получили, там где круг и квадрат пересеклись (как бы 1 & 1), пиксели остались включёнными. В остальных случаях, пиксели мы выключили. \n",
    "\n",
    "Давайте быстренько посмотрим остальные операции. "
   ]
  },
  {
   "cell_type": "code",
   "execution_count": null,
   "metadata": {},
   "outputs": [],
   "source": [
    "# Логическое ИЛИ\n",
    "bitwiseOr = cv2.bitwise_or(rectangle, circle)\n",
    "\n",
    "plt.figure(figsize=[6, 6])\n",
    "plt.title(\"Логическое ИЛИ\")\n",
    "plt.imshow(bitwiseOr, cmap=\"gray\")\n",
    "plt.show()"
   ]
  },
  {
   "cell_type": "code",
   "execution_count": null,
   "metadata": {},
   "outputs": [],
   "source": [
    "# Исключающее ИЛИ \n",
    "bitwiseXOr = cv2.bitwise_xor(rectangle, circle)\n",
    "\n",
    "plt.figure(figsize=[6, 6])\n",
    "plt.title(\"Исключающее ИЛИ\")\n",
    "plt.imshow(bitwiseXOr, cmap=\"gray\")\n",
    "plt.show()"
   ]
  },
  {
   "cell_type": "code",
   "execution_count": null,
   "metadata": {},
   "outputs": [],
   "source": [
    "# НЕ\n",
    "not_circle = cv2.bitwise_not(circle)\n",
    "\n",
    "plt.figure(figsize=[6, 6])\n",
    "plt.title(\"НЕ\")\n",
    "plt.imshow(not_circle, cmap=\"gray\")\n",
    "plt.show()"
   ]
  },
  {
   "cell_type": "markdown",
   "metadata": {},
   "source": [
    "А теперь для наглядности соберём все картинки в ряд. "
   ]
  },
  {
   "cell_type": "code",
   "execution_count": null,
   "metadata": {},
   "outputs": [],
   "source": [
    "fig, ax = plt.subplots(nrows=1, ncols=4, figsize=[14, 5])\n",
    "\n",
    "ax[0].imshow(bitwiseAnd, cmap=\"gray\")\n",
    "ax[0].set_title(\"Логическое И\")\n",
    "\n",
    "ax[1].imshow(bitwiseOr, cmap=\"gray\")\n",
    "ax[1].set_title(\"Логическое ИЛИ\")\n",
    "\n",
    "ax[2].imshow(bitwiseXOr, cmap=\"gray\")\n",
    "ax[2].set_title(\"ЛИсключающее ИЛИ\")\n",
    "\n",
    "ax[3].imshow(not_circle, cmap=\"gray\")\n",
    "ax[3].set_title(\"НЕ\")\n",
    "\n",
    "plt.show()"
   ]
  },
  {
   "cell_type": "markdown",
   "metadata": {},
   "source": [
    "В общем, картинки - это те же цифры, просто цифр немного больше, но правила все те же. "
   ]
  },
  {
   "cell_type": "markdown",
   "metadata": {},
   "source": [
    "## Маски Шоу \n",
    "\n",
    "Маска позволяет на сфокусироваться только на определённой части картинки. То есть выделить \"регион интереса\". \n",
    "\n",
    "Например, мы создаём систему компьютерного зрения для распознавания лиц. Нам интересна только та часть картинки, где есть лица, на остальные части нам, откровенно говоря, плевать. И чтобы не тратить ресурсы на обработку всего остального, мы можем маской оставить лица, а остальное \"выключить\". \n",
    "\n"
   ]
  },
  {
   "cell_type": "code",
   "execution_count": null,
   "metadata": {},
   "outputs": [],
   "source": [
    "img_fpath = os.path.join(os.pardir, \"assets\", \"cv_19.jpg\")\n",
    "image = cv2.imread(img_fpath)\n",
    "image = cv2.cvtColor(image, cv2.COLOR_RGB2BGR)\n",
    "\n",
    "plt.figure(figsize=[6, 6])\n",
    "plt.title(\"Исходная картинка\")\n",
    "plt.imshow(image)\n",
    "plt.show()"
   ]
  },
  {
   "cell_type": "code",
   "execution_count": null,
   "metadata": {},
   "outputs": [],
   "source": [
    "# Давайте сделаем заготовку для маски, размером с нашу картинку \n",
    "mask = np.zeros(image.shape[:2], dtype=\"uint8\")\n",
    "# Выделим на маске 2 прямоугольника, соответствующим лицам наших героев \n",
    "cv2.rectangle(mask, (220, 200), (400, 380), 255, -1)\n",
    "cv2.rectangle(mask, (520, 80), (700, 300), 255, -1)\n",
    "\n",
    "masked = cv2.bitwise_and(image, image, mask=mask)\n",
    "\n",
    "plt.figure(figsize=[6, 6])\n",
    "plt.title(\"Прямоугольные Лица\")\n",
    "plt.imshow(masked)\n",
    "plt.show()"
   ]
  },
  {
   "cell_type": "code",
   "execution_count": null,
   "metadata": {},
   "outputs": [],
   "source": [
    "# now, let's make a circular mask with a radius of 100 pixels and\n",
    "# apply the mask again\n",
    "# А теперь давайте сделаем маску из двух окружностей\n",
    "mask = np.zeros(image.shape[:2], dtype=\"uint8\")\n",
    "cv2.circle(mask, (280, 280), 100, 255, -1)\n",
    "cv2.circle(mask, (600, 200), 100, 255, -1)\n",
    "\n",
    "masked = cv2.bitwise_and(image, image, mask=mask)\n",
    "\n",
    "plt.figure(figsize=[6, 6])\n",
    "plt.title(\"Круглые Лица\")\n",
    "plt.imshow(masked)\n",
    "plt.show()"
   ]
  },
  {
   "cell_type": "markdown",
   "metadata": {},
   "source": [
    "Не обязательно использовать простые фигуры. Можно делать маски из замысловатых контуров. Это даже чаще бывает нужно. "
   ]
  },
  {
   "cell_type": "markdown",
   "metadata": {},
   "source": [
    "## Полезные ссылки \n",
    "\n",
    "* [Логические операции](https://www.pyimagesearch.com/2021/01/19/opencv-bitwise-and-or-xor-and-not/)\n",
    "* [Маски](https://www.pyimagesearch.com/2021/01/19/image-masking-with-opencv/)"
   ]
  }
 ],
 "metadata": {
  "interpreter": {
   "hash": "34c635c84616f3a4480481715ba1e3be1dbeefd6854b0fa1993fac6b8836a8b2"
  },
  "kernelspec": {
   "display_name": "Python 3.8.12 64-bit ('.venv': poetry)",
   "name": "python3"
  },
  "language_info": {
   "codemirror_mode": {
    "name": "ipython",
    "version": 3
   },
   "file_extension": ".py",
   "mimetype": "text/x-python",
   "name": "python",
   "nbconvert_exporter": "python",
   "pygments_lexer": "ipython3",
   "version": "3.8.12"
  }
 },
 "nbformat": 4,
 "nbformat_minor": 2
}
