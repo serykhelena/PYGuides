{
 "cells": [
  {
   "cell_type": "markdown",
   "metadata": {},
   "source": [
    "# Работа с контурами на изображении"
   ]
  },
  {
   "cell_type": "markdown",
   "metadata": {},
   "source": [
    "## Немного про контуры\n",
    "\n",
    "Детектирование контуров позволяет нам найти границу объекта на изображении и легко локализовать его. \n",
    "\n",
    "Обнаружение контуров используется в следующих задачах: \n",
    "\n",
    "* Детекция движения \n",
    "* Обнаружение объектов \n",
    "* Задачи сегментации "
   ]
  },
  {
   "cell_type": "markdown",
   "metadata": {},
   "source": [
    "## Что такое контуры \n",
    "\n",
    "Контур - это объединение всех точек по границе объекта. \n",
    "\n",
    "Обычно определённый контур относится к пограничным пикселям, которые имеют одинаковый цвет и интенсивность. \n",
    "\n",
    "К счастью, в OpenCV уже есть удобные функции: \n",
    "\n",
    "* [`cv2.findConrours`](https://docs.opencv.org/4.x/d3/dc0/group__imgproc__shape.html#gadf1ad6a0b82947fa1fe3c3d497f260e0)\n",
    "* [`cv2.drawContours`](https://docs.opencv.org/4.x/d6/d6e/group__imgproc__draw.html#ga746c0625f1781f1ffc9056259103edbc)\n",
    "\n",
    "И также, два режима для обнаружения контуров: \n",
    "\n",
    "* [`cv2.CHAIN_APPROX_SIMPLE`](https://docs.opencv.org/4.x/d3/dc0/group__imgproc__shape.html#gga4303f45752694956374734a03c54d5ffa5f2883048e654999209f88ba04c302f5) - даёт только конечные точки, то есть своего рода аппроксимация \n",
    "* [`cv2.CHAIN_APPROX_NONE`](https://docs.opencv.org/4.x/d3/dc0/group__imgproc__shape.html#gga4303f45752694956374734a03c54d5ffaf7d9a3582d021d5dadcb0e37201a62f8) - даёт все точки \n",
    "\n"
   ]
  },
  {
   "cell_type": "markdown",
   "metadata": {},
   "source": [
    "## Как искать контур? \n",
    "\n",
    "1. Прочитать изображение и перевести его в оттенки серого \n",
    "\n",
    "    > Конвертация в оттенки серого нужна, чтобы в следующем шаге использовать пороговое значение, т.к. после конвертации мы получаем одноканальное изображение, то нам нужен порог только по одному каналу - это просто и удобно. А использование порогов по всем каналам в этой задаче только лишняя головная боль и работать нормально не будет, т.к. при поиске границ нам прежде всего важна интенсивность пикселей, чёрно-белая картинка намного лучше описывает эту информацию, нежели RGB. \n",
    "\n",
    "2. Применение бинарной маски (binary thresholding)\n",
    "\n",
    "    > На этом шаге картинка превратится в бинарное изображение, где объект будет иметь белый цвет (значение = 1), а всё остальное - чёрный (значение = 0)\n",
    "\n",
    "3. Использование функции [`cv2.findConrours`](https://docs.opencv.org/4.x/d3/dc0/group__imgproc__shape.html#gadf1ad6a0b82947fa1fe3c3d497f260e0) для поиска контуров \n",
    "\n",
    "4. Визуализация контуров - [`cv2.drawContours`](https://docs.opencv.org/4.x/d6/d6e/group__imgproc__draw.html#ga746c0625f1781f1ffc9056259103edbc)\n",
    "\n",
    "    > Это важный шаг, т.к. всегда нужно понимать, что было найдено и нужна ли дополнительная обработка. "
   ]
  },
  {
   "cell_type": "markdown",
   "metadata": {},
   "source": [
    "## Немного вступления об аппроксимации"
   ]
  },
  {
   "cell_type": "markdown",
   "metadata": {},
   "source": [
    "Давайте представим, что вы - это автономный беспилотный робот. \n",
    "Вы движетесь при помощи данных, полученных с разных датчиков: лидар, сонар, камеры и т.д. Вам постоянно приходится обрабатывать огромную кучу данных, чтобы успевать за изменениями вокруг. При этом, чем больше у вас есть данных, тем более точно вы сможете оценить обстановку. Но в то же время, тем горячее становится ваш вычислитель, так как приходится жарить данные с высокой скоростью. И тут мы спотыкаемся об такую штуку, как \"вычислительная сложность и хранение данных\". \n",
    "\n",
    "А что делать, если вы только что проснулись и ваши вычислительные ресурсы ещё очень малы? Ответ прост - Упрощать! \n",
    "\n",
    "> Либо говоря пафосным научным языком - \"аппроксимировать\" \n",
    "\n"
   ]
  },
  {
   "cell_type": "markdown",
   "metadata": {},
   "source": [
    "`Давайте считать, что наш робот автономен - т.е. не тащит за собой толстый кабель к ближайшей розетке, а везёт маленькую батарейку. Чем меньше энергии потребляет мозг робота, тем дольше последний проработает. А поэтому имеет смысл снизить потери на нагрев процессора, для чего снизить сложность алгоритмов или количество обрабатываемой информации`"
   ]
  },
  {
   "cell_type": "markdown",
   "metadata": {},
   "source": [
    "Давайте представим, что у нас есть такой маршрут \n",
    "\n",
    "\n",
    "<p align=\"center\">\n",
    "    <img src=\"https://929687.smushcdn.com/2407837/wp-content/uploads/2021/10/normal_route.png?lossy=1&strip=1&webp=1\" alt=\"drawing\" width=\"600\"/>\n",
    "</p>\n",
    "\n",
    "Допустим, нам дана ширина дороги и всякие другие её параметры. Опуская некоторые допущения, скажем, что повороты можно сгладить (т.е. аппроксимировать, т.е. упростить, чтобы уменьшить количество манёвров). \n",
    "\n",
    "Тогда наш \"упрощённый\" маршрут будет выглядить как-то так \n",
    "\n",
    "<p align=\"center\">\n",
    "    <img src=\"https://929687.smushcdn.com/2407837/wp-content/uploads/2021/10/rdp_route.gif?size=650x310&lossy=1&strip=1&webp=1\" alt=\"drawing\" width=\"600\"/>\n",
    "</p>\n",
    "\n",
    "Если приглядеться повнимательнее, то заметно, как сглаживаются кривые линии. \n",
    "\n",
    "Это один из примеров аппроксимации контуров. "
   ]
  },
  {
   "cell_type": "markdown",
   "metadata": {},
   "source": [
    "## Что такое \"аппроксимация контуров\"? "
   ]
  },
  {
   "cell_type": "markdown",
   "metadata": {},
   "source": [
    "### Аппроксимация контуров на базе алгоритма Ramer-Douglas-Peucker (RDP)\n",
    "\n",
    "Цель этого алгоритма - упросить ломанную (кривую) линию при помощи уменьшения количества её вершин с заданным пороговым значением. То есть мы как бы выкидываем некоторые близкие точки и получаем более гладкую линию, при этом не теряя важную информацию. \n",
    "\n",
    "> То есть если дорога вела в лес, она продолжить вести в лес, но с меньшим количеством поворотов. \n",
    "\n",
    "На гифке ниже Википедия рассказывает, как на самом деле работает алгоритм. \n",
    "\n",
    "<p align=\"center\">\n",
    "    <img src=\"https://lh4.googleusercontent.com/NJjqzOoXcJ9D_wa-6di-JDYms4CwhDVRaI3MURqcfjUQXiqII_TMQYHhqYGMJyvv-4JfCdrzmrnOjnqO_Swe2xDMx1PI3lMYi6oUw0L4mmtxoN28w-Rgpb1fI0rjMxKA1iYZaDFC=s0\" alt=\"drawing\" width=\"600\"/>\n",
    "</p>\n",
    "\n",
    "У нас есть начальная и конечная точки кривой, алгоритм сначала найдёт вершину на максимальном расстоянии от линии, соединяющей две выбранные вершины. Если эта \"дальняя\" вершина находится на расстоянии меньшем, чем заданный порог, то мы автоматически пропускаем все вершины, которые лежат между и заменяем кривой участок прямой линией. \n",
    "\n",
    "Если \"дальняя\" вершина лежит дальше указанного порога, то мы рекурсивно повторяем алгоритм, двигаясь по исходной кривой. "
   ]
  },
  {
   "cell_type": "markdown",
   "metadata": {},
   "source": [
    "Давайте попробуем пощупать аппроксимацию."
   ]
  },
  {
   "cell_type": "code",
   "execution_count": null,
   "metadata": {},
   "outputs": [],
   "source": [
    "import os\n",
    "\n",
    "import ipywidgets as widgets\n",
    "from ipywidgets import interact\n",
    "\n",
    "import numpy as np\n",
    "import matplotlib.pyplot as plt \n",
    "import imutils\n",
    "import cv2"
   ]
  },
  {
   "cell_type": "markdown",
   "metadata": {},
   "source": [
    "Возьмём какое-нибудь простенькое контрастное изображение, чтобы выделить контур объекта. "
   ]
  },
  {
   "cell_type": "code",
   "execution_count": null,
   "metadata": {},
   "outputs": [],
   "source": [
    "fpath = os.path.join(os.pardir, \"assets\", \"contour.png\")\n",
    "original_image = cv2.imread(fpath)\n",
    "original_image = cv2.cvtColor(original_image, cv2.COLOR_RGB2BGR)\n",
    "\n",
    "plt.figure(figsize=[8, 8])\n",
    "plt.imshow(original_image)\n",
    "plt.title(\"Original Image\")\n",
    "plt.show()"
   ]
  },
  {
   "cell_type": "markdown",
   "metadata": {},
   "source": [
    "Переведём картинку в оттенки серого и подберём пороговое значение так, чтобы объект был белым, а задний фон - чёрным. "
   ]
  },
  {
   "cell_type": "code",
   "execution_count": null,
   "metadata": {},
   "outputs": [],
   "source": [
    "gray_image = cv2.cvtColor(original_image, cv2.COLOR_BGR2GRAY)\n",
    "\n",
    "@interact\n",
    "def choose_threshold(\n",
    "    low_thresh=widgets.IntSlider(value=50, min=0, max=255),\n",
    "    high_thresh=widgets.IntSlider(value=255, min=0, max=255)\n",
    "):\n",
    "    thresholded_img = cv2.threshold(\n",
    "        gray_image, low_thresh, high_thresh, cv2.THRESH_BINARY\n",
    "    )[1]\n",
    "\n",
    "    fig, ax = plt.subplots(nrows=1, ncols=2, figsize=[15, 10])\n",
    "    \n",
    "    ax[0].imshow(original_image)\n",
    "    ax[0].set_title(\"Original Image\")\n",
    "\n",
    "    ax[1].imshow(thresholded_img, cmap=\"gray\")\n",
    "    ax[1].set_title(\"Thresholded Image\")\n",
    "\n",
    "    plt.show()"
   ]
  },
  {
   "cell_type": "code",
   "execution_count": null,
   "metadata": {},
   "outputs": [],
   "source": [
    "# Как только подобрали пороги, которые вас устраивают, не забудьте обновить значения здесь\n",
    "        # чтобы дальше использовать полученную маску\n",
    "thresholded_img = cv2.threshold(gray_image, 15, 255, cv2.THRESH_BINARY)[1]"
   ]
  },
  {
   "cell_type": "markdown",
   "metadata": {},
   "source": [
    "Итак, бинарная картинка у нас есть, давайте найдём на ней контур c помощью функции [cv2.findContours](https://docs.opencv.org/4.x/d3/dc0/group__imgproc__shape.html#gadf1ad6a0b82947fa1fe3c3d497f260e0). Мы будем использовать флаги: \n",
    "\n",
    "* [cv2.RETR_EXTERNAL](https://docs.opencv.org/4.x/d9/d8b/tutorial_py_contours_hierarchy.html), чтобы получить только внешние контуры, без иерархии (т.е. без вложенных контуров). \n",
    "* [cv2.CHAIN_APPROX_SIMPLE](https://docs.opencv.org/4.x/d3/dc0/group__imgproc__shape.html#gga4303f45752694956374734a03c54d5ffa5f2883048e654999209f88ba04c302f5), чтобы убрать лишине вершины, то есть это уже аппроксимация. "
   ]
  },
  {
   "cell_type": "code",
   "execution_count": null,
   "metadata": {},
   "outputs": [],
   "source": [
    "contours = cv2.findContours(\n",
    "    thresholded_img.copy(), cv2.RETR_EXTERNAL, cv2.CHAIN_APPROX_SIMPLE\n",
    ")\n",
    "contours = imutils.grab_contours(contours)\n",
    "max_cntr = max(contours, key=cv2.contourArea)\n",
    "\n",
    "# Давайте нарисуем самый большой контур \n",
    "output_img = original_image.copy() \n",
    "cv2.drawContours(output_img, [max_cntr], -1, (0, 255, 0), 4)\n",
    "\n",
    "print(f\"Количество точек в контуре: {len(max_cntr)}\")\n",
    "\n",
    "plt.figure(figsize=[8, 8])\n",
    "plt.imshow(output_img)\n",
    "plt.title(\"Image with Contour\")\n",
    "plt.show()"
   ]
  },
  {
   "cell_type": "markdown",
   "metadata": {},
   "source": [
    "Видим, что мы подобрали хороший порог и наш контур соответствует нашему объекту. Замечательно! \n",
    "Теперь давайте закатаем рукава и натравим на получившийся контур нашу собственную аппроксимацию. \n",
    "\n",
    "\n",
    "Давайте испробуем разные пороговые значения для алгоритма RDP. "
   ]
  },
  {
   "cell_type": "code",
   "execution_count": null,
   "metadata": {},
   "outputs": [],
   "source": [
    "eps_values = np.linspace(0.001, 0.05, 10)\n",
    "\n",
    "@interact\n",
    "def choose_threshold(\n",
    "    eps_value=widgets.SelectionSlider(description=\"value\", options=eps_values)\n",
    "):\n",
    "    peri = cv2.arcLength(max_cntr, True)\n",
    "    approx = cv2.approxPolyDP(max_cntr, eps_value * peri, True)\n",
    "\n",
    "    draw_img = original_image.copy()\n",
    "    cv2.drawContours(draw_img, [approx], -1, (0, 255, 0), 3)\n",
    "    print(f\"Количество точек в контуре: {len(approx)}\")\n",
    "\n",
    "    plt.figure(figsize=[8, 8])\n",
    "    plt.imshow(draw_img)\n",
    "    plt.title(\"Image with Contour Approximation\")\n",
    "    plt.show()"
   ]
  },
  {
   "cell_type": "markdown",
   "metadata": {},
   "source": [
    "Так можно и до абстракционизма лютого дойти. \n",
    "Так что всегда проверяйте промежуточные результаты, особенно в процессе работы с изображениями! "
   ]
  },
  {
   "cell_type": "markdown",
   "metadata": {},
   "source": [
    "## Полезные ссылки\n",
    "\n",
    "* [PyImageSearch - Contour Approximation](https://www.pyimagesearch.com/2021/10/06/opencv-contour-approximation/)\n",
    "* [Contour Detection](https://learnopencv.com/contour-detection-using-opencv-python-c/)"
   ]
  },
  {
   "cell_type": "markdown",
   "metadata": {},
   "source": []
  }
 ],
 "metadata": {
  "interpreter": {
   "hash": "34c635c84616f3a4480481715ba1e3be1dbeefd6854b0fa1993fac6b8836a8b2"
  },
  "kernelspec": {
   "display_name": "Python 3.8.12 64-bit ('.venv': poetry)",
   "name": "python3"
  },
  "language_info": {
   "codemirror_mode": {
    "name": "ipython",
    "version": 3
   },
   "file_extension": ".py",
   "mimetype": "text/x-python",
   "name": "python",
   "nbconvert_exporter": "python",
   "pygments_lexer": "ipython3",
   "version": "3.8.12"
  }
 },
 "nbformat": 4,
 "nbformat_minor": 2
}
