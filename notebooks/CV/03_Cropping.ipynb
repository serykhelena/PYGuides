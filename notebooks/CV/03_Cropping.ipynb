{
 "cells": [
  {
   "cell_type": "markdown",
   "metadata": {},
   "source": [
    "# Обрезка изображения"
   ]
  },
  {
   "cell_type": "markdown",
   "metadata": {},
   "source": [
    "Обрезка изображения нужна, чтобы выделить или извлечь интересующую нас область. Или, наоборот, убрать что-то, что мешает нам. Этот процесс обычно называется \"выделением области интереса\" (ROi = Region of Interest). \n",
    "\n",
    "Например, мы нашли кота на картинке и теперь хотим оставить только его (то есть вырезать его из исходной картинки). \n",
    "\n",
    "Мы помним, что картинка - это по сути матрица чисел, поэтому обрезать изображение мы можем используя слайсинг для numpy array. \n",
    "\n",
    "<p align=\"center\">\n",
    "    <img src=\"https://929687.smushcdn.com/2407837/wp-content/uploads/2021/01/opencv_cropping_numpy_slicing.png?lossy=1&strip=1&webp=1e\" alt=\"drawing\" width=\"600\"/>\n",
    "</p>\n"
   ]
  },
  {
   "cell_type": "markdown",
   "metadata": {},
   "source": [
    "Давайте создадим квадратную матрицу 5х5 "
   ]
  },
  {
   "cell_type": "code",
   "execution_count": null,
   "metadata": {},
   "outputs": [],
   "source": [
    "import os \n",
    "\n",
    "import cv2\n",
    "import matplotlib.pyplot as plt\n",
    "import numpy as np "
   ]
  },
  {
   "cell_type": "code",
   "execution_count": null,
   "metadata": {},
   "outputs": [],
   "source": [
    "mat = np.arange(0, 25).reshape((5, 5))\n",
    "mat"
   ]
  },
  {
   "cell_type": "markdown",
   "metadata": {},
   "source": [
    "А теперь представим, что мы хотим выделить \"пиксели\" начиная с x=0, y=0 и заканчивая x=2, y=3. "
   ]
  },
  {
   "cell_type": "code",
   "execution_count": null,
   "metadata": {},
   "outputs": [],
   "source": [
    "mat[0:3, 0:2]"
   ]
  },
  {
   "cell_type": "markdown",
   "metadata": {},
   "source": [
    "Аналогично, если мы хотим выделить \"пиксели\" начиная с x=1, y=3 и заканчивая x=5, y=5"
   ]
  },
  {
   "cell_type": "code",
   "execution_count": null,
   "metadata": {},
   "outputs": [],
   "source": [
    "mat[3:5, 1:5]"
   ]
  },
  {
   "cell_type": "markdown",
   "metadata": {},
   "source": [
    "Шаблон довольно очевиден\n",
    "\n",
    "<center>roi = image[start_Y:end_Y, start_X: end_X]</center>\n",
    "\n",
    "* start_Y:end_Y указывает какие строки в матрице выбрать \n",
    "* start_X: end_X указывает какие колонки в матрице выбрать"
   ]
  },
  {
   "cell_type": "markdown",
   "metadata": {},
   "source": [
    "С матрицами вроде всё понятно, но давайте попробуем с настоящей цветной картинкой. "
   ]
  },
  {
   "cell_type": "code",
   "execution_count": null,
   "metadata": {},
   "outputs": [],
   "source": [
    "fpath = os.path.join(os.pardir, \"assets\", \"cv_19.jpg\")\n",
    "img = cv2.imread(fpath)\n",
    "img = cv2.cvtColor(img, cv2.COLOR_RGB2BGR)\n",
    "\n",
    "plt.figure(figsize=[7, 7])\n",
    "plt.imshow(img)\n",
    "plt.title(\"Исходная картинка\")\n",
    "plt.show()"
   ]
  },
  {
   "cell_type": "markdown",
   "metadata": {},
   "source": [
    "Давайте обрежем края у этой картинки, оставим только главных героев в кадре. \n",
    "\n",
    "> Пока что представим, что мы уже знаем, где и как расположены люди. "
   ]
  },
  {
   "cell_type": "code",
   "execution_count": null,
   "metadata": {},
   "outputs": [],
   "source": [
    "# img.shape[1] даст нам последнее/конечное значение Y\n",
    "people_img = img[90:img.shape[1], 170:880]\n",
    "\n",
    "plt.figure(figsize=[7, 7])\n",
    "plt.imshow(people_img)\n",
    "plt.title(\"Обрезанная картинка\")\n",
    "plt.show()"
   ]
  },
  {
   "cell_type": "markdown",
   "metadata": {},
   "source": [
    "Вот так, буквально за одну строчку кода, мы смогли обрезать картинку. "
   ]
  },
  {
   "cell_type": "markdown",
   "metadata": {},
   "source": [
    "## Изменение цвета пикселей "
   ]
  },
  {
   "cell_type": "markdown",
   "metadata": {},
   "source": [
    "А теперь давайте не будем обрезать исходную картинку, а заполнил её края каким-нибудь цветом. Например, розовым: RGB (255, 204, 204)"
   ]
  },
  {
   "cell_type": "code",
   "execution_count": null,
   "metadata": {},
   "outputs": [],
   "source": [
    "color = (255, 204, 204)\n",
    "background = np.full(shape=img.shape, fill_value=color)\n",
    "background[90:img.shape[1], 170:880] = people_img\n",
    "\n",
    "plt.figure(figsize=[7, 7])\n",
    "plt.imshow(background)\n",
    "plt.title(\"Цветная рамка\")\n",
    "plt.show()"
   ]
  },
  {
   "cell_type": "markdown",
   "metadata": {},
   "source": [
    "Либо, наоборт, мы можем заполнить каким-нибудь цветом середину нашей картинки. "
   ]
  },
  {
   "cell_type": "code",
   "execution_count": null,
   "metadata": {},
   "outputs": [],
   "source": [
    "filled_img = img.copy()\n",
    "filled_img[90:img.shape[1], 170:880] = color \n",
    "\n",
    "plt.figure(figsize=[7, 7])\n",
    "plt.imshow(filled_img)\n",
    "plt.title(\"Закрашенные человеки\")\n",
    "plt.show()"
   ]
  },
  {
   "cell_type": "markdown",
   "metadata": {},
   "source": [
    "## Полезные ссылки \n",
    "\n",
    "* [PyImageSearch - Crop Image with OpenCV](https://www.pyimagesearch.com/2021/01/19/crop-image-with-opencv/)\n",
    "* [OpenCV Getting and Setting Pixels](https://www.pyimagesearch.com/2021/01/20/opencv-getting-and-setting-pixels/)"
   ]
  },
  {
   "cell_type": "markdown",
   "metadata": {},
   "source": []
  }
 ],
 "metadata": {
  "interpreter": {
   "hash": "34c635c84616f3a4480481715ba1e3be1dbeefd6854b0fa1993fac6b8836a8b2"
  },
  "kernelspec": {
   "display_name": "Python 3.8.10 64-bit ('.venv': poetry)",
   "language": "python",
   "name": "python3"
  },
  "language_info": {
   "codemirror_mode": {
    "name": "ipython",
    "version": 3
   },
   "file_extension": ".py",
   "mimetype": "text/x-python",
   "name": "python",
   "nbconvert_exporter": "python",
   "pygments_lexer": "ipython3",
   "version": "3.8.10"
  }
 },
 "nbformat": 4,
 "nbformat_minor": 2
}
