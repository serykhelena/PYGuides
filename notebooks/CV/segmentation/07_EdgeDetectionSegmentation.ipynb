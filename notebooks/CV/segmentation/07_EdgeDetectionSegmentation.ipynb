{
 "cells": [
  {
   "cell_type": "markdown",
   "metadata": {},
   "source": [
    "# Сегментация при помощи обнаружения границ"
   ]
  },
  {
   "cell_type": "markdown",
   "metadata": {},
   "source": [
    "Когда мы смотрим на картинку, то в большинстве случаев можем разделить объекты между собой. А всё потому, что между ними есть границы (контуры). \n",
    "\n",
    "Именно это мы можем использовать для сегментации. Так как границы (края) помогают определить форму объектов. \n",
    "\n",
    "Но как определить эти края? Здесь в игру вступают фильтры и свёртки. \n",
    "\n",
    "> Если не совсем понятно про свёртки, то можно посмотреть [сюда](https://www.analyticsvidhya.com/blog/2017/06/architecture-of-convolutional-neural-networks-simplified-demystified/?utm_source=blog&utm_medium=image-segmentation-article)"
   ]
  },
  {
   "cell_type": "markdown",
   "metadata": {},
   "source": [
    "## Что такое свёртка? \n",
    "\n",
    "Ниже представлена визуализация свёрки, идущей по изображению\n",
    "\n",
    "<p align=\"center\">\n",
    "    <img src=\"https://github.com/serykhelena/PYGuides/blob/main/notebooks/assets/conv_filter.gif?raw=true\" alt=\"drawing\" width=\"800\"/>\n",
    "</p>"
   ]
  },
  {
   "cell_type": "markdown",
   "metadata": {},
   "source": [
    "Как же это работает? \n",
    "\n",
    "1. Берём матрицу весов (ядро свёртки)\n",
    "2. Кладём её в начало картинки \n",
    "3. Выполняем поэлементное умножение \n",
    "4. Записываем результат умножения в новую матрицу \n",
    "5. Перемещаем матрицу весов на выбранную дельту (страйд) \n",
    "6. Выполняем пункты 3 и 4 пока не пройдём по всем пикселям в картинке \n",
    "\n",
    "Значения матрицы весов определяют свёртку, то есть эти веса помогают вытаскивать из изображения особенности (фичи). \n",
    "\n",
    "Исследователи поняли, что выбранные определённым образом веса помогают обнаруживать горизонтальные или вертикальные границы (или даже комбинации горизонтальных и вертикальных границ). "
   ]
  },
  {
   "cell_type": "markdown",
   "metadata": {},
   "source": [
    "## Оператор Собеля"
   ]
  },
  {
   "cell_type": "markdown",
   "metadata": {},
   "source": [
    "Одной из таких \"специальных\" весовых матриц является оператор Собеля. Он обычно используется для обнаружения границ на изображении. \n",
    "\n",
    "Оператор Собеля состоит из двух весовых матриц: \n",
    "* одна для обнаружения горизонтальных границ \n",
    "* вторая для обнаружения вертикальных границ \n",
    "\n",
    "Давайте посмотрим, как выглядят эти матрицы \n",
    "\n",
    "$$ \\text{Sobel Filter (Horizontal)} = \\begin{bmatrix} 1 & 2 & 1\\\\ 0 & 0 & 0\\\\ -1 & -2 & -1 \\end{bmatrix} $$\n",
    "\n",
    "$$ \\text{Sobel Filter (Vertical)} = \\begin{bmatrix} -1 & 0 & 1\\\\ -2 & 0 & 2\\\\ -1 & 0 & 1 \\end{bmatrix} $$\n",
    "\n",
    "Обнаружение границ работает путём сворачивания этих фильтров по изображению. \n",
    "\n",
    "Давайте попробуем.\n"
   ]
  },
  {
   "cell_type": "code",
   "execution_count": null,
   "metadata": {},
   "outputs": [],
   "source": [
    "import os \n",
    "\n",
    "import cv2 \n",
    "import matplotlib.pyplot as plt \n",
    "import numpy as np\n",
    "\n",
    "from skimage.color import rgb2gray\n",
    "from scipy import ndimage"
   ]
  },
  {
   "cell_type": "code",
   "execution_count": null,
   "metadata": {},
   "outputs": [],
   "source": [
    "fpath = os.path.join(os.path.dirname(os.path.abspath(os.pardir)), \"assets\", \"cv_19.png\")\n",
    "# fpath = os.path.join(os.pardir, \"assets\", \"cv_19.png\")\n",
    "original_image = cv2.imread(fpath)\n",
    "original_image = cv2.cvtColor(original_image, cv2.COLOR_BGR2RGB)\n",
    "\n",
    "plt.figure(figsize=[6, 6])\n",
    "plt.imshow(original_image)\n",
    "plt.show()"
   ]
  },
  {
   "cell_type": "markdown",
   "metadata": {},
   "source": [
    "Как видно, на картинке есть много горизонтальных и вертикальных линий. \n",
    "\n",
    "Давайте сконвертируем изображение в оттенки серого и применим оператор Собеля (комбинированный, т.е. горизонтальные и вертикальные линии)."
   ]
  },
  {
   "cell_type": "code",
   "execution_count": null,
   "metadata": {},
   "outputs": [],
   "source": [
    "gray = rgb2gray(original_image)\n",
    "\n",
    "# определяем фильтры Собеля\n",
    "sobel_horizontal = np.array([np.array([1, 2, 1]), np.array([0, 0, 0]), np.array([-1, -2, -1])])\n",
    "print(f\"Ядро для обнаружения горизонтальных границ\\n {sobel_horizontal}\\n\")\n",
    " \n",
    "sobel_vertical = np.array([np.array([-1, 0, 1]), np.array([-2, 0, 2]), np.array([-1, 0, 1])])\n",
    "print(f\"Ядро для обнаружения вертикальных границ\\n {sobel_vertical}\")"
   ]
  },
  {
   "cell_type": "code",
   "execution_count": null,
   "metadata": {},
   "outputs": [],
   "source": [
    "out_h = ndimage.convolve(gray, sobel_horizontal, mode='reflect')\n",
    "out_v = ndimage.convolve(gray, sobel_vertical, mode='reflect')"
   ]
  },
  {
   "cell_type": "code",
   "execution_count": null,
   "metadata": {},
   "outputs": [],
   "source": [
    "fig, ax = plt.subplots(nrows=1, ncols=2, figsize=[10, 6])\n",
    "\n",
    "ax[0].imshow(out_h, cmap=\"gray\")\n",
    "ax[0].set_title(\"Горизонтальные границы\")\n",
    "\n",
    "ax[1].imshow(out_v, cmap=\"gray\")\n",
    "ax[1].set_title(\"Вертикальные границы\")\n",
    "\n",
    "plt.show()"
   ]
  },
  {
   "cell_type": "markdown",
   "metadata": {},
   "source": [
    "## Оператор Лапласа\n",
    "\n",
    "Есть ещё один оператор, который умеет находить как горизонтальные, так и вертикальные границы. \n",
    "\n",
    "$$ \\text{Laplace Operator} = \\begin{bmatrix} 1 & 1 & 1\\\\ 1 & -8 & 1\\\\ 1 & 1 & 1 \\end{bmatrix} $$\n",
    "\n",
    "Давайте и его попробуем."
   ]
  },
  {
   "cell_type": "code",
   "execution_count": null,
   "metadata": {},
   "outputs": [],
   "source": [
    "kernel_laplace = np.array([np.array([1, 1, 1]), np.array([1, -8, 1]), np.array([1, 1, 1])])\n",
    "print(f\"Ядро Лапласа\\n{kernel_laplace}\")"
   ]
  },
  {
   "cell_type": "code",
   "execution_count": null,
   "metadata": {},
   "outputs": [],
   "source": [
    "out_l = ndimage.convolve(gray, kernel_laplace, mode='reflect')\n",
    "\n",
    "plt.figure(figsize=[6, 6])\n",
    "plt.imshow(out_l, cmap=\"gray\")\n",
    "plt.title(\"Оператор Лапласа\")\n",
    "plt.show()"
   ]
  },
  {
   "cell_type": "markdown",
   "metadata": {},
   "source": [
    "Пам-пам! оператор Лапласа нашёл как горизонтальные, так и вертикальные границы. "
   ]
  },
  {
   "cell_type": "markdown",
   "metadata": {},
   "source": [
    "`Есть некоторая сущность под названием детектор границ Кенни. Когда-нибудь он обязательно будет описан здесь, а пока` [он есть тут](https://habr.com/ru/post/114589/), [тут](https://robocraft.ru/blog/computervision/484.html)"
   ]
  },
  {
   "cell_type": "markdown",
   "metadata": {},
   "source": [
    "## Заключение \n",
    "\n",
    "В этот раз мы посмотрели как находить границы на изображении. Результаты немного отличаются от масок, которые обычно используются в задачах сегментации. Но тем не менее, в некоторых задачах определения вертикальных и горизонтальных линий может быть достаточно для сегментации. \n",
    "\n",
    "Например, представим, что есть скан документа и на нём нужно найти таблицу. Тут то и приходятся те операторы, которые были рассмотрены сегодня. "
   ]
  },
  {
   "cell_type": "code",
   "execution_count": null,
   "metadata": {},
   "outputs": [],
   "source": []
  },
  {
   "cell_type": "markdown",
   "metadata": {},
   "source": [
    "## Полезные ссылки \n",
    "\n",
    "* [Introduction to Image Segmentation Techniques](https://www.analyticsvidhya.com/blog/2019/04/introduction-image-segmentation-techniques-python/)"
   ]
  }
 ],
 "metadata": {
  "interpreter": {
   "hash": "34c635c84616f3a4480481715ba1e3be1dbeefd6854b0fa1993fac6b8836a8b2"
  },
  "kernelspec": {
   "display_name": "Python 3.8.12 64-bit ('.venv': poetry)",
   "name": "python3"
  },
  "language_info": {
   "codemirror_mode": {
    "name": "ipython",
    "version": 3
   },
   "file_extension": ".py",
   "mimetype": "text/x-python",
   "name": "python",
   "nbconvert_exporter": "python",
   "pygments_lexer": "ipython3",
   "version": "3.8.12"
  }
 },
 "nbformat": 4,
 "nbformat_minor": 2
}
