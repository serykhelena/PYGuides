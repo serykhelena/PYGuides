{
 "cells": [
  {
   "cell_type": "code",
   "execution_count": null,
   "metadata": {},
   "outputs": [],
   "source": [
    "import os \n",
    "\n",
    "import cv2 \n",
    "import matplotlib.pyplot as plt \n",
    "import numpy as np\n",
    "\n",
    "# Эти библиотеки нужны для 3Д визуализации\n",
    "from mpl_toolkits.mplot3d import Axes3D\n",
    "from matplotlib import cm\n",
    "from matplotlib import colors\n",
    "\n",
    "import ipywidgets as widgets\n",
    "from ipywidgets import interact"
   ]
  },
  {
   "cell_type": "markdown",
   "metadata": {},
   "source": [
    "## Загрузка данных \n",
    "\n",
    "Чтобы пощупать сегментацию на базе цветового пространства, мы будем использовать [маленький датасет с рыбами-клоунами](https://github.com/realpython/materials/tree/master/opencv-color-spaces). \n",
    "\n",
    "> Нужно скачать папку images, переименовать её в `clownfishes`, и положить её в папку `/notebook/CV/data`.  "
   ]
  },
  {
   "cell_type": "markdown",
   "metadata": {},
   "source": [
    "Давайте загрузим первую картинку."
   ]
  },
  {
   "cell_type": "code",
   "execution_count": null,
   "metadata": {},
   "outputs": [],
   "source": [
    "fpath = os.path.join(os.path.dirname(os.path.abspath(os.getcwd())), \"data\", \"clownfishes\", \"nemo0.jpg\")\n",
    "original_image = cv2.imread(fpath)\n",
    "original_image = cv2.cvtColor(original_image, cv2.COLOR_BGR2RGB)\n",
    "plt.figure(figsize=[8, 6])\n",
    "plt.imshow(original_image)\n",
    "plt.show()"
   ]
  },
  {
   "cell_type": "markdown",
   "metadata": {},
   "source": [
    "## Визуализация Немо в RGB-пространстве "
   ]
  },
  {
   "cell_type": "markdown",
   "metadata": {},
   "source": [
    "Пространство `HSV` - это хороший выбор для сегментации цветов, но чтобы понять почему, давайте сначала сравним изображение в `RGB` с изображением в `HSV` пространстве при помощи визуализации распределения цветов. "
   ]
  },
  {
   "cell_type": "code",
   "execution_count": null,
   "metadata": {},
   "outputs": [],
   "source": [
    "r, g, b = cv2.split(original_image)\n",
    "\n",
    "fig = plt.figure(figsize=[8, 6])\n",
    "axis = fig.add_subplot(1, 1, 1, projection=\"3d\")\n",
    "pixel_colors = original_image.reshape((np.shape(original_image)[0]*np.shape(original_image)[1], 3))\n",
    "norm = colors.Normalize(vmin=-1.,vmax=1.)\n",
    "norm.autoscale(pixel_colors)\n",
    "pixel_colors = norm(pixel_colors).tolist()\n",
    "axis.scatter(r.flatten(), g.flatten(), b.flatten(), facecolors=pixel_colors, marker=\".\")\n",
    "axis.set_xlabel(\"Red\")\n",
    "axis.set_ylabel(\"Green\")\n",
    "axis.set_zlabel(\"Blue\")\n",
    "plt.show()"
   ]
  },
  {
   "cell_type": "markdown",
   "metadata": {},
   "source": [
    "Из этого графика видно, что оранжевая часть картинки размазана почти по всему диапазону красных, зелёных и синих значений. \n",
    "\n",
    "Поскольку тело рыбки Немо заполняет почти весь график, то сегментировать его тело на базе RGB пространства будет довольно сложно. "
   ]
  },
  {
   "cell_type": "markdown",
   "metadata": {},
   "source": [
    "## Визуализация Немо в HSV-пространстве "
   ]
  },
  {
   "cell_type": "markdown",
   "metadata": {},
   "source": [
    "В RGB на рыбку мы посмотрели, давайте получим такой же график, но в HSV. \n",
    "\n",
    "Давайте сконвертируем рыбку из RGB в HSV "
   ]
  },
  {
   "cell_type": "code",
   "execution_count": null,
   "metadata": {},
   "outputs": [],
   "source": [
    "hsv_nemo = cv2.cvtColor(original_image, cv2.COLOR_RGB2HSV)\n",
    "\n",
    "plt.figure(figsize=[8, 6])\n",
    "plt.imshow(hsv_nemo)\n",
    "plt.title(\"HSV Image\")\n",
    "plt.show()"
   ]
  },
  {
   "cell_type": "markdown",
   "metadata": {},
   "source": [
    "И получим такой же график распределения значений. "
   ]
  },
  {
   "cell_type": "code",
   "execution_count": null,
   "metadata": {},
   "outputs": [],
   "source": [
    "h, s, v = cv2.split(hsv_nemo)\n",
    "fig = plt.figure(figsize=[8, 6])\n",
    "axis = fig.add_subplot(1, 1, 1, projection=\"3d\")\n",
    "\n",
    "axis.scatter(h.flatten(), s.flatten(), v.flatten(), facecolors=pixel_colors, marker=\".\")\n",
    "axis.set_xlabel(\"Hue\")\n",
    "axis.set_ylabel(\"Saturation\")\n",
    "axis.set_zlabel(\"Value\")\n",
    "plt.show()"
   ]
  },
  {
   "cell_type": "markdown",
   "metadata": {},
   "source": [
    "В пространстве HSV оранжевый цвет рыбки намного более локализован и визуально его легко отделить от остальных цветов. \n",
    "\n",
    "Насыщенность и яркость оранжевого цвета действительно различаются, но всё же основное количество цвета расположено в небольшом диапазоне по оси тона (Hue). \n",
    "\n",
    "Это и является ключевым моментом, который можно использовать для сегментации рыбки."
   ]
  },
  {
   "cell_type": "markdown",
   "metadata": {},
   "source": [
    "## Создание масок сегментации"
   ]
  },
  {
   "cell_type": "markdown",
   "metadata": {},
   "source": [
    "Давайте подберём пороговое значение для оранжевого цвета в Немо.\n",
    "\n",
    "То есть наша задача - это найти такие пороговые значения для HSV, чтобы на картинке осталось только оранжевое тело рыбы. \n",
    "\n",
    "Попробуйте сначала проиграться с порогами. \n",
    "\n",
    "<details><summary>Если уж очень не хочется, то вот вам спойлер😜</summary>\n",
    "    \n",
    "```python\n",
    "low_orange_color=(1, 190, 200)\n",
    "high_orange_color=(18, 255, 255)\n",
    "```\n",
    "\n",
    "</details>"
   ]
  },
  {
   "cell_type": "code",
   "execution_count": null,
   "metadata": {},
   "outputs": [],
   "source": [
    "@interact\n",
    "def choose_threshold(\n",
    "    low_hue=widgets.IntSlider(value=0, min=0, max=255), \n",
    "    low_sat=widgets.IntSlider(value=0, min=0, max=255), \n",
    "    low_val=widgets.IntSlider(value=0, min=0, max=255), \n",
    "    high_hue=widgets.IntSlider(value=255, min=0, max=255),\n",
    "    high_sat=widgets.IntSlider(value=255, min=0, max=255),\n",
    "    high_val=widgets.IntSlider(value=255, min=0, max=255), \n",
    "):\n",
    "    low_orange_color = (low_hue, low_sat, low_val)\n",
    "    high_orange_color = (high_hue, high_sat, high_val)\n",
    "\n",
    "    orange_mask = cv2.inRange(hsv_nemo, low_orange_color, high_orange_color)\n",
    "    result = cv2.bitwise_and(original_image, original_image, mask=orange_mask)\n",
    "\n",
    "    fig, ax = plt.subplots(nrows=1, ncols=2, figsize=[15, 10])\n",
    "    ax[0].imshow(orange_mask, cmap=\"gray\")\n",
    "    ax[0].set_title(\"Orange Mask\")\n",
    "\n",
    "    ax[1].imshow(result)\n",
    "    ax[1].set_title(\"Original Image with Mask\")\n",
    "\n",
    "    plt.show()\n"
   ]
  },
  {
   "cell_type": "markdown",
   "metadata": {},
   "source": [
    "Теперь мы можем детектировать оранжевую часть тела Немо. Но есть проблема, у рыбки есть ещё и белые полосы. \n",
    "\n",
    "Всё просто, давайте сделаем вторую маску, которая детектирует белые полосы, по аналогии с оранжевым цветом. \n",
    "\n",
    "<details><summary>Спойлер для белого цвета😜</summary>\n",
    "    \n",
    "```python\n",
    "low_white_color=(0, 0, 200)\n",
    "high_white_color=(145, 60, 255)\n",
    "```\n",
    "\n",
    "</details>"
   ]
  },
  {
   "cell_type": "code",
   "execution_count": null,
   "metadata": {},
   "outputs": [],
   "source": [
    "@interact\n",
    "def choose_threshold(\n",
    "    low_hue=widgets.IntSlider(value=0, min=0, max=255), \n",
    "    low_sat=widgets.IntSlider(value=0, min=0, max=255), \n",
    "    low_val=widgets.IntSlider(value=0, min=0, max=255), \n",
    "    high_hue=widgets.IntSlider(value=255, min=0, max=255),\n",
    "    high_sat=widgets.IntSlider(value=255, min=0, max=255),\n",
    "    high_val=widgets.IntSlider(value=255, min=0, max=255), \n",
    "):\n",
    "    low_white_color = (low_hue, low_sat, low_val)\n",
    "    high_white_color = (high_hue, high_sat, high_val)\n",
    "\n",
    "    white_mask = cv2.inRange(hsv_nemo, low_white_color, high_white_color)\n",
    "    result = cv2.bitwise_and(original_image, original_image, mask=white_mask)\n",
    "\n",
    "    fig, ax = plt.subplots(nrows=1, ncols=2, figsize=[15, 10])\n",
    "    ax[0].imshow(white_mask, cmap=\"gray\")\n",
    "    ax[0].set_title(\"White Mask\")\n",
    "\n",
    "    ax[1].imshow(result)\n",
    "    ax[1].set_title(\"Original Image with Mask\")\n",
    "\n",
    "    plt.show()"
   ]
  },
  {
   "cell_type": "markdown",
   "metadata": {},
   "source": [
    "А теперь осталось только скомбинировать наши две маски. То есть там, где есть оранжевый или белый цвет, будет 1, а всё остальное 0. Давайте посмотрим, что получается. "
   ]
  },
  {
   "cell_type": "code",
   "execution_count": null,
   "metadata": {},
   "outputs": [],
   "source": [
    "# Сюда можете подставить свои значения для оранжевого цвета\n",
    "low_orange_color=(1, 190, 200)\n",
    "high_orange_color=(18, 255, 255)\n",
    "orange_mask = cv2.inRange(hsv_nemo, low_orange_color, high_orange_color)\n",
    "\n",
    "# Сюда можете подставить свои значения для белого цвета\n",
    "low_white_color=(0, 0, 200)\n",
    "high_white_color=(145, 60, 255)\n",
    "white_mask = cv2.inRange(hsv_nemo, low_white_color, high_white_color)\n",
    "\n",
    "final_mask = orange_mask + white_mask\n",
    "final_result = cv2.bitwise_and(original_image, original_image, mask=final_mask)\n",
    "\n",
    "fig, ax = plt.subplots(nrows=1, ncols=2, figsize=[15, 10])\n",
    "ax[0].imshow(final_mask, cmap=\"gray\")\n",
    "ax[0].set_title(\"Mask\")\n",
    "\n",
    "ax[1].imshow(final_result)\n",
    "ax[1].set_title(\"Original Image with Mask\")\n",
    "\n",
    "plt.show()"
   ]
  },
  {
   "cell_type": "markdown",
   "metadata": {},
   "source": [
    "Та-дам! По сути у нас получилась грубая сегментация в цветовом пространстве HSV. \n",
    "\n",
    "Да, видно, что маска не идеальная и есть паразитные пиксели. Можно попробовать немного улучшить ситуацию с помощью размытия по Гауссу. Это поможет убрать некоторые ложные пиксели. \n",
    "\n",
    "Размытие по Гауссу - это фильтр, который использует функцию Гаусса для преобразования каждого пикселя на изображении. В результате такой фильтр сглаживает шумы на изображении и уменьшает детализацию. \n",
    "\n",
    "Давайте посмотрим, что случится с рыбкой, если натравить на неё Гаусса. "
   ]
  },
  {
   "cell_type": "code",
   "execution_count": null,
   "metadata": {},
   "outputs": [],
   "source": [
    "blur = cv2.GaussianBlur(final_result, (7, 7), 0)\n",
    "\n",
    "plt.figure(figsize=[8, 6])\n",
    "plt.imshow(blur)\n",
    "plt.show()"
   ]
  },
  {
   "cell_type": "markdown",
   "metadata": {},
   "source": [
    "## Оценка работы сегментации"
   ]
  },
  {
   "cell_type": "markdown",
   "metadata": {},
   "source": [
    "Ради интереса, давайте посмотрим, насколько хорошо наш метод сегментации работает на других картинках с рыбами-клоунами. \n",
    "\n",
    "Сначала давайте загрузим все картинки."
   ]
  },
  {
   "cell_type": "code",
   "execution_count": null,
   "metadata": {},
   "outputs": [],
   "source": [
    "dpath = os.path.join(os.path.dirname(os.path.abspath(os.getcwd())), \"data\", \"clownfishes\")\n",
    "\n",
    "all_images = []\n",
    "for file_name in os.listdir(dpath):\n",
    "    img = cv2.cvtColor(\n",
    "        cv2.imread(os.path.join(dpath, file_name)), \n",
    "        cv2.COLOR_BGR2RGB\n",
    "    )\n",
    "    all_images.append(img)\n",
    "\n",
    "print(f\"Найдено {len(all_images)} картинок.\")"
   ]
  },
  {
   "cell_type": "markdown",
   "metadata": {},
   "source": [
    "Давайте создадим отдельную функцию, в которую положим все наши предыдущие наработки. "
   ]
  },
  {
   "cell_type": "code",
   "execution_count": null,
   "metadata": {},
   "outputs": [],
   "source": [
    "def segment_clownfish(image: np.ndarray):\n",
    "    # Конвертируем картинку в HSV\n",
    "    hsv_image = cv2.cvtColor(image, cv2.COLOR_RGB2HSV)\n",
    "    # Задаём пороги для оранжевого цвета\n",
    "    light_orange = (1, 190, 200)\n",
    "    dark_orange = (18, 255, 255)\n",
    "    # Применяем маску для оранжевого цвета\n",
    "    mask = cv2.inRange(hsv_image, light_orange, dark_orange)\n",
    "\n",
    "    # Задаём пороги для белого цвета\n",
    "    light_white = (0, 0, 200)\n",
    "    dark_white = (145, 60, 255)\n",
    "    # Применяем маску для белого цвета\n",
    "    mask_white = cv2.inRange(hsv_image, light_white, dark_white)\n",
    "    \n",
    "    # Соединяем две маски\n",
    "    final_mask = mask + mask_white\n",
    "    result = cv2.bitwise_and(image, image, mask=final_mask)\n",
    "\n",
    "    # Применяем размытие Гаусса для размытия шумов\n",
    "    blur = cv2.GaussianBlur(result, (7, 7), 0)\n",
    "    return blur"
   ]
  },
  {
   "cell_type": "markdown",
   "metadata": {},
   "source": [
    "Теперь, когда у нас есть функция, мы можем сегментировать все наши картинки, буквально за одну строчку кода. "
   ]
  },
  {
   "cell_type": "code",
   "execution_count": null,
   "metadata": {},
   "outputs": [],
   "source": [
    "results = [segment_clownfish(friend) for friend in all_images]"
   ]
  },
  {
   "cell_type": "code",
   "execution_count": null,
   "metadata": {},
   "outputs": [],
   "source": [
    "for i in range(1, 6):\n",
    "    plt.subplot(1, 2, 1)\n",
    "    plt.imshow(all_images[i])\n",
    "    plt.subplot(1, 2, 2)\n",
    "    plt.imshow(results[i])\n",
    "    plt.show()"
   ]
  },
  {
   "cell_type": "markdown",
   "metadata": {},
   "source": [
    "## Заключение \n",
    "\n",
    "В целом с помощью такого простого метода сегментации можно найти большинство рыбок. Однако очевидно, что у такого подхода есть свои недостатки, так например, при малейшем изменении освещения или при появлении теней, наши пороговые значения уже не будут работать и найти рыбку не получится."
   ]
  },
  {
   "cell_type": "markdown",
   "metadata": {},
   "source": [
    "## Полезные ссылки \n",
    "\n",
    "* [RealPython статья](https://realpython.com/python-opencv-color-spaces/)"
   ]
  }
 ],
 "metadata": {
  "interpreter": {
   "hash": "34c635c84616f3a4480481715ba1e3be1dbeefd6854b0fa1993fac6b8836a8b2"
  },
  "kernelspec": {
   "display_name": "Python 3.8.12 64-bit ('.venv': poetry)",
   "name": "python3"
  },
  "language_info": {
   "codemirror_mode": {
    "name": "ipython",
    "version": 3
   },
   "file_extension": ".py",
   "mimetype": "text/x-python",
   "name": "python",
   "nbconvert_exporter": "python",
   "pygments_lexer": "ipython3",
   "version": "3.8.12"
  }
 },
 "nbformat": 4,
 "nbformat_minor": 2
}
