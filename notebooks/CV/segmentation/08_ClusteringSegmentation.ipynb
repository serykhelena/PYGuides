{
 "cells": [
  {
   "cell_type": "markdown",
   "metadata": {},
   "source": [
    "# Сегментация на основе кластеризации"
   ]
  },
  {
   "cell_type": "markdown",
   "metadata": {},
   "source": [
    "## Что такое кластеризация? \n",
    "\n",
    "Кластеризация - это задача разделения популяции (набора точек) на группы по похожести. Например, зелёные шарики мы складываем в одну кучку, а красные - в другую. Вот эти кучки называются кластерами.\n",
    "\n",
    "`Кластеризация - разбиение на группы` \n",
    "\n",
    "Один из наиболее широко используемых алгоритмов кластеризации - это [K-means](https://www.analyticsvidhya.com/blog/2016/11/an-introduction-to-clustering-and-different-methods-of-clustering/)\n",
    "\n",
    "Здесь `K` обозначает количество кластеров, которые мы хотим получить. \n",
    "\n",
    "Как же работает этот алгоритм? \n",
    "\n",
    "1. Рандомно выбираем К начальных кластеров \n",
    "2. Рандомно раскидываем точки по кластерам \n",
    "3. Вычисляем центр каждого кластера \n",
    "4. Вычисляем расстояние от каждой точки до центров каждого кластера \n",
    "5. В зависимости от величины расстояния перекидываем точки к ближайшему кластеру \n",
    "6. Вычисляем центры новых кластеров (полученных после перекидывания точек в пунтке 5)\n",
    "7. Повторяем шаги 4, 5 и 6 до тех пор, пока центры кластеров не перестанут изменяться или до тех пор, пока мы не достигнем установленного количества итераций. \n",
    "\n",
    "Самое главное достоинства алгоритма K-means - это то, что он простой и понятный.\n",
    "\n",
    "Давайте попробуем этот алгоритм."
   ]
  },
  {
   "cell_type": "code",
   "execution_count": null,
   "metadata": {},
   "outputs": [],
   "source": [
    "import os \n",
    "\n",
    "import cv2 \n",
    "import matplotlib.pyplot as plt \n",
    "import numpy as np\n",
    "\n",
    "from skimage.color import rgb2gray"
   ]
  },
  {
   "cell_type": "code",
   "execution_count": null,
   "metadata": {},
   "outputs": [],
   "source": [
    "fpath = os.path.join(os.path.dirname(os.path.abspath(os.pardir)), \"assets\", \"cv_21.jpeg\")\n",
    "original_image = cv2.imread(fpath)\n",
    "original_image = cv2.cvtColor(original_image, cv2.COLOR_BGR2RGB)\n",
    "\n",
    "plt.figure(figsize=[6, 6])\n",
    "plt.imshow(original_image)\n",
    "plt.show()"
   ]
  },
  {
   "cell_type": "code",
   "execution_count": null,
   "metadata": {},
   "outputs": [],
   "source": [
    "original_image.shape"
   ]
  },
  {
   "cell_type": "markdown",
   "metadata": {},
   "source": [
    "Эта картинка трёхканальная (то есть 3Д-матрица).\n",
    "\n",
    "`Неподготовленному человеку может быть непонятно как плоская картинка является 3d-матрицей, поэтому можно представить картинку, как три наложенные друг на друга матрицы, где каждый элемент описывает только один канал (цвет) итогового изображения.`\n",
    "\n",
    "Её высота: 192 \n",
    "\n",
    "Ширина: 263 \n",
    "\n",
    "Количество каналов: 3 (RGB)\n",
    "\n",
    "Но для алгоритма нам нужно преобразовать её в 2Д-матрицу `(length*width, channels)`. В нашем случае, форма картинки должна быть (192*263, 3)"
   ]
  },
  {
   "cell_type": "code",
   "execution_count": null,
   "metadata": {},
   "outputs": [],
   "source": [
    "reshaped_img = original_image.reshape(original_image.shape[0]*original_image.shape[1], original_image.shape[2])\n",
    "reshaped_img.shape"
   ]
  },
  {
   "cell_type": "markdown",
   "metadata": {},
   "source": [
    "Дальше нам нужно обучить наш алгоритм и получить кластера. Давайте попробуем получить 5 кластеров из нашей картинки. "
   ]
  },
  {
   "cell_type": "code",
   "execution_count": null,
   "metadata": {},
   "outputs": [],
   "source": [
    "from sklearn.cluster import KMeans\n",
    "kmeans = KMeans(n_clusters=5, random_state=42).fit(reshaped_img)"
   ]
  },
  {
   "cell_type": "markdown",
   "metadata": {},
   "source": [
    "`cluster_centers_` вернёт центры кластеров, а `labels_` даст нам лейблы для каждого пикселя (то есть каждый пиксель будет как бы размечен по кластерам). \n",
    "\n",
    "Таким образом мы получим картинку, но с кластерами на ней. Но чтобы отобразить её, нам нужно будет обратно преобразовать матрицу в 3Д."
   ]
  },
  {
   "cell_type": "code",
   "execution_count": null,
   "metadata": {},
   "outputs": [],
   "source": [
    "_tmp = kmeans.cluster_centers_[kmeans.labels_]\n",
    "clustered_img = _tmp.reshape(original_image.shape).astype(np.uint8)\n",
    "\n",
    "plt.figure(figsize=[6, 6])\n",
    "plt.imshow(clustered_img)\n",
    "plt.show()"
   ]
  },
  {
   "cell_type": "markdown",
   "metadata": {},
   "source": [
    "Та-дам! Мы смогли сегментировать картинку, используя всего 5 кластеров. Можно попробовать увеличить количество кластеров и посмотреть, что будет. \n",
    "\n",
    "## Заключение\n",
    "\n",
    "Алгоритм K-means работает хорошо, когда у нас используются маленькие картинки, но проблемы начинаются на больших данных. Так как алгоритм щупает все точки на каждой итерации и его реализация становится слишком \"дорогой\". То есть мы рискуем состариться, ожидая, пока алгоритм досчитается. "
   ]
  },
  {
   "cell_type": "markdown",
   "metadata": {},
   "source": [
    "## Полезные ссылки \n",
    "\n",
    "* [Introduction to Image Segmentation Techniques](https://www.analyticsvidhya.com/blog/2019/04/introduction-image-segmentation-techniques-python/)"
   ]
  }
 ],
 "metadata": {
  "interpreter": {
   "hash": "34c635c84616f3a4480481715ba1e3be1dbeefd6854b0fa1993fac6b8836a8b2"
  },
  "kernelspec": {
   "display_name": "Python 3.8.12 64-bit ('.venv': poetry)",
   "name": "python3"
  },
  "language_info": {
   "codemirror_mode": {
    "name": "ipython",
    "version": 3
   },
   "file_extension": ".py",
   "mimetype": "text/x-python",
   "name": "python",
   "nbconvert_exporter": "python",
   "pygments_lexer": "ipython3",
   "version": "3.8.12"
  }
 },
 "nbformat": 4,
 "nbformat_minor": 2
}
