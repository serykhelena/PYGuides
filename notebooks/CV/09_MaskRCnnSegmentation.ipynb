{
 "cells": [
  {
   "cell_type": "markdown",
   "metadata": {},
   "source": [
    "# Сегментация на базе Mask R-CNN"
   ]
  },
  {
   "cell_type": "markdown",
   "metadata": {},
   "source": [
    "## Как работает Mask R-CNN"
   ]
  },
  {
   "cell_type": "markdown",
   "metadata": {},
   "source": [
    "Mask R-CNN - это расширение модели [Faster R-CNN](https://www.analyticsvidhya.com/blog/2018/10/a-step-by-step-introduction-to-the-basic-object-detection-algorithms-part-1/?utm_source=blog&utm_medium=computer-vision-implementing-mask-r-cnn-image-segmentation). Faster R-CNN широко используется для задач детекции объектов. Mask R-CNN построена поверх Faster R-CNN, так что если ей подать на вход картинку, то она вернёт название классов, их ограничивающие прямоугольники (Bounding Box) и маски. \n",
    "\n",
    "Давайте сначала вкратце определимся, как работает Faster R-CNN\n",
    "\n",
    "1. Модель Faster R-CNN использует ConvNet для выдёргивания фич из картинок \n",
    "2. Эти фичи пропускаются через RPN (Region Proposal Network), эта сеть возвращает кандидатов на звание Bounding Box \n",
    "3. Затем все кандиданы масштабируются, чтобы они были одного размера \n",
    "4. И наконец, все кандидаты пропускаются через полносвязный слой, чтобы быть классифицированными \n",
    "5. На выходе получаем Bounding Box и название класса \n",
    "\n"
   ]
  },
  {
   "cell_type": "markdown",
   "metadata": {},
   "source": [
    "Теперь разобраться с тем, как работает Mask R-CNN должно быть проще. \n",
    "\n",
    "1. Точно также как ConvNet в Faster R-CNN, в Mask R-CNN используется архитектура ResNet 101. То есть ResNet 101 достаёт фичи из входных картинок. \n",
    "\n",
    "2. Используем RPN для получения кандидатов Bounding Box. То есть по сути, мы пытаемся предсказать есть ли объект на картинке или его нет. \n",
    "\n",
    "3. Приводим все Bounding Box к единому размеру. \n",
    "\n",
    "4. Пропускаем все Bounding Box через полносвязный слой, получая названия классов и их Bounding Box. \n",
    "\n",
    "Теперь начинает часть, где Mask R-CNN отличается от Faster R-CNN\n",
    "\n",
    "5. Для каждого Bounding Box вычисляется IoU (Intersection over Union) c исходными (истинными) Bounding Box. \n",
    "\n",
    "$$ IoU = \\frac{\\text{Area of Overlap}}{\\text{Area of Union}} $$\n",
    "\n",
    "6. И теперь, только если IoU больше или равно 0.5, мы принимаем этот Bounding Box (считаем его валидным). Иначе мы игнорируем этот Bounding Box. Так мы проверяем все Bounding Box и выбираем только валидные. \n",
    "\n",
    "Давайте посмотрим на пример. \n",
    "\n",
    "<p align=\"center\">\n",
    "    <img src=\"https://github.com/serykhelena/PYGuides/blob/main/notebooks/assets/maskrcnn_1.webp?raw=true\" alt=\"drawing\" width=\"500\"/>\n",
    "</p>\n",
    "\n",
    "Здесь, красный прямоугольник - это исходный (истинный) Bounding Box. Теперь давайте предположим, что мы получили 4 Bounding Box из RPN\n",
    "\n",
    "<p align=\"center\">\n",
    "    <img src=\"https://github.com/serykhelena/PYGuides/blob/main/notebooks/assets/maskrcnn_2.webp?raw=true\" alt=\"drawing\" width=\"500\"/>\n",
    "</p>\n",
    "\n",
    "Здесь, IoU для Box 1 и Box 2 явно меньше половины истинного Bounding Box, а Box 3 и Box 4 явно больше. Следовательно, у нас останутся только Box 3 и Box 4. "
   ]
  },
  {
   "cell_type": "markdown",
   "metadata": {},
   "source": [
    "## Сегментационная маска (Segmentation Mask)\n",
    "\n",
    "Как только мы получили валидные регионы интереса (RoI), мы можем добавить шаги с получением маски. То есть наша модель вернёт сегментационную маску 28 х 28 пикселей для каждого региона, которые потом будут увеличины (отмасштабированы). \n",
    "\n",
    "Давайте посмотрим на пример. \n",
    "\n"
   ]
  },
  {
   "cell_type": "code",
   "execution_count": null,
   "metadata": {},
   "outputs": [],
   "source": []
  },
  {
   "cell_type": "markdown",
   "metadata": {},
   "source": [
    "## Полезные ссылки \n",
    "\n",
    "* [Implementing Mask R-CNN](https://www.analyticsvidhya.com/blog/2019/07/computer-vision-implementing-mask-r-cnn-image-segmentation/?utm_source=blog&utm_medium=introduction-image-segmentation-techniques-python)"
   ]
  },
  {
   "cell_type": "markdown",
   "metadata": {},
   "source": []
  }
 ],
 "metadata": {
  "language_info": {
   "name": "python"
  }
 },
 "nbformat": 4,
 "nbformat_minor": 2
}
