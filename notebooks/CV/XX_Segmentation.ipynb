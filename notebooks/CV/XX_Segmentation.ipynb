{
 "cells": [
  {
   "cell_type": "markdown",
   "metadata": {},
   "source": [
    "# Сегментация"
   ]
  },
  {
   "cell_type": "markdown",
   "metadata": {},
   "source": [
    "Основная идея - мы хотим разделить разные объекты на картинке на основе каких-то их особенностей.\n",
    "\n",
    "Когда нам нужно выделить пиксели, которые относятся к какому-то объекту, а всё остальное мы будет считать фоном - эта задача называется \"Семантической сегментацией\". \n",
    "\n"
   ]
  },
  {
   "cell_type": "code",
   "execution_count": null,
   "metadata": {},
   "outputs": [],
   "source": []
  },
  {
   "cell_type": "markdown",
   "metadata": {},
   "source": []
  }
 ],
 "metadata": {
  "language_info": {
   "name": "python"
  }
 },
 "nbformat": 4,
 "nbformat_minor": 2
}
