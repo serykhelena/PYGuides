{
 "cells": [
  {
   "cell_type": "markdown",
   "metadata": {},
   "source": [
    "# Загрузка изображений"
   ]
  },
  {
   "cell_type": "markdown",
   "metadata": {},
   "source": [
    "Чтобы как-то обрабатывать изображение, логично, что сначала нужно его загрузить из файла или по адресу URL. "
   ]
  },
  {
   "cell_type": "code",
   "execution_count": null,
   "metadata": {},
   "outputs": [],
   "source": [
    "import os"
   ]
  },
  {
   "cell_type": "markdown",
   "metadata": {},
   "source": [
    "## Чтение цветной картинки из файла"
   ]
  },
  {
   "cell_type": "markdown",
   "metadata": {},
   "source": [
    "Чтобы загрузить картинку из файла воспользуется библиотекой OpenCV, фнукцией `cv2.imread()`\n",
    "\n",
    "У этой функции есть три флага, которые отвечают за способ загрузки изображения:\n",
    "\n",
    "* `cv2.IMREAD_COLOR` - загрузка цветного изображения (флаг по умолчанию). **НО** если на изображении были какие-то прозрачные области, они перестанут быть таковыми.\n",
    "* `cv2.IMREAD_GRAYSCALE` - загрузка изображения в оттенках серого\n",
    "* `cv2.IMREAD_UNCHANGED` - загрузка изображения c альфа каналом\n",
    "\n",
    "> Если лениво писать полное имя флага, то можно просто использовать цифры от 1, 0 и -1 (соответственно).\n",
    "\n",
    "**Альфа-канал** - это значение, такое же как и цветовые компоненты (красный, зелёный, синий). Оно определяет степень прозрачности для каждого пикселя изображения. Например, если вы загрузите картинку с расширением .png и флагом cv2.IMREAD_UNCHANGED, то вам будут доступны значения прозрачности пикселя. Если же загрузите .jpeg картинку, то не ждите такого.\n",
    "\n",
    "Ну что, грузим тестовую картинку с флагом по умолчанию (т.е. его можно не прописывать явно)."
   ]
  },
  {
   "cell_type": "code",
   "execution_count": null,
   "metadata": {},
   "outputs": [],
   "source": [
    "import cv2 \n",
    "\n",
    "img_fpath = os.path.join(os.pardir, \"assets\", \"cv_1.jpg\")\n",
    "image = cv2.imread(img_fpath) \n",
    "# = cv2.imread('...', cv2.IMREAD_COLOR)\n",
    "# = cv2.imread('...', 0)\n",
    "# выбирайте вариант, который больше по душе"
   ]
  },
  {
   "cell_type": "markdown",
   "metadata": {},
   "source": [
    "Чтобы проверить, что картинка загрузилась, или посмотреть что получилось после каких-либо манипуляций с изображением, можно использовать функцию `cv2.imshow()`. Эта функция показывает изображение в отдельном окне. Размер окна автоматически подстраивается под размер изображения. "
   ]
  },
  {
   "cell_type": "code",
   "execution_count": null,
   "metadata": {},
   "outputs": [],
   "source": [
    "# Показать изображение\n",
    "cv2.imshow('Window Name', image)\n",
    "# Закрыть окно с изображением при нажатии любой кнопки на клавиатуре\n",
    "cv2.waitKey(0)\n",
    "# Закрыть все окна \n",
    "cv2.destroyAllWindows() "
   ]
  },
  {
   "cell_type": "markdown",
   "metadata": {},
   "source": [
    "* `cv2.waitKey(0)` - функция ждёт указанное время (мс), чтобы любая кнопка на клавиатуре была нажата. Т.к. здесь передан 0, то ждать она будет бесконечно долго, пока вы не сделаете что-то с этим. Также можно указать определённую клавишу и ждать нажатия только её. \n",
    "* `cv2.destroyAllWindows()` - уничтожает все созданные ранее окна. Чтобы уничтожить какое-то определённое окно, используйте функцию `cv2.destroyWindow()` и укажите имя окна в качестве аргумента функции. "
   ]
  },
  {
   "cell_type": "markdown",
   "metadata": {},
   "source": [
    "Для удобства просмотра картинки в ноутбуке, можно использовать библиотеку `matplotlib` и функцию `imshow()`."
   ]
  },
  {
   "cell_type": "code",
   "execution_count": null,
   "metadata": {},
   "outputs": [],
   "source": [
    "import matplotlib.pyplot as plt \n",
    "\n",
    "plt.imshow(image)\n",
    "plt.title(\"Original Image\")\n",
    "plt.show()"
   ]
  },
  {
   "cell_type": "markdown",
   "metadata": {},
   "source": [
    "Хммм.. странный какой-то пёсель, не правда ли? \n",
    "Такая расскраска не случайна, всё дело в порядке цветовых каналов. Наша картинка - RGB, но функция `cv2.imread()` возвращает картинку - BGR. Вот и получается, что каналы перемешались. \n",
    "\n",
    "Чтобы увидеть оригинальную рассцветку, нужно вернуть оригинальный порядок каналов. "
   ]
  },
  {
   "cell_type": "code",
   "execution_count": null,
   "metadata": {},
   "outputs": [],
   "source": [
    "image = cv2.cvtColor(image, cv2.COLOR_RGB2BGR)\n",
    "\n",
    "plt.imshow(image)\n",
    "plt.title(\"Original Image\")\n",
    "plt.show()"
   ]
  },
  {
   "cell_type": "markdown",
   "metadata": {},
   "source": [
    "Та-дам! \n",
    "\n",
    "В случае с функцией `cv2.imshow()` менять порядок каналов не нужно, она внутри сама с этим справляется. Но такую особенность лучше не забывать, чтобы неожиданностей не случалось. "
   ]
  },
  {
   "cell_type": "markdown",
   "metadata": {},
   "source": [
    "## Чтение цветной картинки из URL"
   ]
  },
  {
   "cell_type": "code",
   "execution_count": null,
   "metadata": {},
   "outputs": [],
   "source": [
    "from skimage import io\n",
    "\n",
    "# Используем scikit-image фреймворк, чтобы загрузить по URL. Он загружает изображения в формате RGB\n",
    "url = \"https://raw.githubusercontent.com/serykhelena/PYGuides/main/notebooks/assets/cv_1.jpg\"\n",
    "image = io.imread(url,plugin='matplotlib')\n",
    "\n",
    "# Отображаем картинку и наслаждаемся \n",
    "plt.figure(figsize=[10, 12])\n",
    "plt.imshow(image)\n",
    "plt.title(\"Original Image\")\n",
    "plt.show()"
   ]
  },
  {
   "cell_type": "markdown",
   "metadata": {},
   "source": []
  }
 ],
 "metadata": {
  "interpreter": {
   "hash": "8782fe99382040eb7be7faff4e3ad43a7d7ee8bfb2e919c47806e55ae12c0149"
  },
  "kernelspec": {
   "display_name": "Python 3.8.10 64-bit ('.venv': poetry)",
   "name": "python3"
  },
  "language_info": {
   "codemirror_mode": {
    "name": "ipython",
    "version": 3
   },
   "file_extension": ".py",
   "mimetype": "text/x-python",
   "name": "python",
   "nbconvert_exporter": "python",
   "pygments_lexer": "ipython3",
   "version": "3.8.10"
  }
 },
 "nbformat": 4,
 "nbformat_minor": 2
}
