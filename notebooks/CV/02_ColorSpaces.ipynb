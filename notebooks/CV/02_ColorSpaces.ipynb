{
 "cells": [
  {
   "cell_type": "markdown",
   "metadata": {},
   "source": [
    "# Что такое \"цветовые пространства\"? "
   ]
  },
  {
   "cell_type": "markdown",
   "metadata": {},
   "source": [
    "## RGB\n",
    "\n",
    "Чаще всего используется пространство RGB = Red, Green, Blue. \n",
    "\n",
    "<p align=\"center\">\n",
    "    <img src=\"https://github.com/serykhelena/PYGuides/blob/main/notebooks/assets/rgb.png?raw=true\" alt=\"drawing\" width=\"900\"/>\n",
    "</p>\n",
    "\n",
    "Цвета пространства представлены с точки зрения их красной, зелёной и синей компонент. \n",
    "\n",
    "Говоря, более техническим языком, RGB описывает цвет как набор из трёх компонент. Каждый компонент принимает значение между 0 и 255, где набор `(0, 0, 0)` соответствует чёрному цвету, а `(255, 255, 255)` соответсвует белому цвету. \n",
    "\n",
    "RGB считается \"аддитивным\" цветовым пространством, то есть каждый цвет получается при помощи добавления части других цветов (компонент). \n",
    "\n",
    "Ниже представлены парочка примеров цветов в пространстве RGB \n",
    "\n",
    "| Название цвета    | RGB значение  |\n",
    "|:-----------------:|:-------------:|\n",
    "| Красный           | 255, 0, 0     |\n",
    "| Оранжевый         | 255, 128, 0   |\n",
    "| Розовый           | 255, 153, 255 |\n",
    "\n",
    "RGB - это одно из пяти основных цветовых пространств, каждое из которых обладает своими модификациями. Существует очееннньь много цветовых пространств, так как разные пространства могут быть использованы для различных задач. "
   ]
  },
  {
   "cell_type": "markdown",
   "metadata": {},
   "source": [
    "## CMYK \n",
    "\n",
    "В области печатной продукции, цветовое пространство CMYK является более используемым и полезным, так как оно описывает цветовые комбинации необходимые ждя получения цвета на белом фоне (а бумага чаще всего всё же белая, а не чёрная). \n",
    "\n",
    "<p align=\"center\">\n",
    "    <img src=\"https://github.com/serykhelena/PYGuides/blob/main/notebooks/assets/cmyk.png?raw=true\" alt=\"drawing\" width=\"900\"/>\n",
    "</p>\n",
    "\n",
    "Для RGB набор из нулей соотвествует чёрному цвету, а для CMYK - этот набор уже будет отражать белый цвет. \n",
    "Цветные принтеры содержат в себе ёмкости с чернилами голубого, пурпурного, жёлтого и чёрного цветов. "
   ]
  },
  {
   "cell_type": "markdown",
   "metadata": {},
   "source": [
    "## HSV и HSL \n",
    "\n",
    "HSV и HSL - это цветовые пространства, где используется описание оттенка, насыщенности и яркости, которые особенно полезны для определения контраста в изображениях. Эти цветовые пространства часто используются в инструментах выбора цвета в программном обеспечении и для веб-дизайна.\n",
    "\n",
    "<p align=\"center\">\n",
    "    <img src=\"https://github.com/serykhelena/PYGuides/blob/main/notebooks/assets/hsv_hsl.png?raw=true\" alt=\"drawing\" width=\"900\"/>\n",
    "</p>\n"
   ]
  },
  {
   "cell_type": "markdown",
   "metadata": {},
   "source": [
    "На самом деле цвет - это непрерывное явление, а это означает, что существует бесконечное количество цветов. Цветовые пространства, однако, представляют цвет через дискретные структуры (фиксированное количество целочисленных значений), что приемлемо, поскольку человеческий глаз и восприятие также ограничены. Цветовые пространства могут полностью отображать все цвета, которые мы можем различать."
   ]
  },
  {
   "cell_type": "markdown",
   "metadata": {},
   "source": [
    "## Давайте щупать пространства "
   ]
  },
  {
   "cell_type": "markdown",
   "metadata": {},
   "source": [
    "Давайте посмотрим какие цветовые пространства есть в OpenCV. \n",
    "\n",
    "> Список и количество флагов может варьироваться в зависимости от версии библиотеки OpenCV. "
   ]
  },
  {
   "cell_type": "code",
   "execution_count": null,
   "metadata": {},
   "outputs": [],
   "source": [
    "import os \n",
    "\n",
    "import cv2 \n",
    "import matplotlib.pyplot as plt \n",
    "import numpy as np"
   ]
  },
  {
   "cell_type": "code",
   "execution_count": null,
   "metadata": {},
   "outputs": [],
   "source": [
    "flags = [i for i in dir(cv2) if i.startswith('COLOR_')]\n",
    "\n",
    "print(f\"Доступно: {len(flags)} цветовых пространcтв!\")\n",
    "\n",
    "print(f\"Пример пространства:\\t{flags[48]}\")"
   ]
  },
  {
   "cell_type": "markdown",
   "metadata": {},
   "source": [
    "Первая аббревиатура после `COLOR_` соответствует исходному цветовому пространству (то есть то, в котором сейчас уже находится изображение), аббревиатура после цифры `2` соответствует целевому цветовому пространству (то есть то пространство, в которое хотим конвертировать). \n",
    "\n",
    "В нашем примере флаг обозначает преобразование из `BGR` (Blue-Green-Red) в `RGB` (Red-Green-Blue). Как вы могли заметить, эти пространства очень похожи между собой, разница лишь в порядке каналов. "
   ]
  },
  {
   "cell_type": "markdown",
   "metadata": {},
   "source": [
    "Давайте загрузим тестовую картинку. "
   ]
  },
  {
   "cell_type": "code",
   "execution_count": null,
   "metadata": {},
   "outputs": [],
   "source": [
    "img_fpath = os.path.join(os.pardir, \"assets\", \"nemo0.jpg\")\n",
    "original_image = cv2.imread(img_fpath)\n",
    "\n",
    "plt.figure(figsize=[8, 5])\n",
    "plt.imshow(original_image)\n",
    "plt.show()"
   ]
  },
  {
   "cell_type": "markdown",
   "metadata": {},
   "source": [
    "Как-то странно выглядит рыба клоун, не находите? \n",
    "Вот и проявилась разница между пространствами `BGR` и `RGB`. Красный и синий каналы поменялись местами. \n",
    "\n",
    "Но важно помнить, что в OpenCV по умолчанию изображения всегда читаются в **BGR-формате**.\n",
    "\n",
    "Давайте воспользуемся функцией `cvtColor()`, чтобы вернуть рыбке её естественный цвет. "
   ]
  },
  {
   "cell_type": "code",
   "execution_count": null,
   "metadata": {},
   "outputs": [],
   "source": [
    "original_image = cv2.cvtColor(original_image, cv2.COLOR_BGR2RGB)\n",
    "\n",
    "plt.figure(figsize=[8, 5])\n",
    "plt.imshow(original_image)\n",
    "plt.show()"
   ]
  },
  {
   "cell_type": "markdown",
   "metadata": {},
   "source": [
    "Всё же так рыба-клоун выглядит гораздо лучше! "
   ]
  },
  {
   "cell_type": "markdown",
   "metadata": {},
   "source": [
    "### Визуализация Немо в RGB-пространстве "
   ]
  },
  {
   "cell_type": "markdown",
   "metadata": {},
   "source": [
    "Пространство `HSV` - это хороший выбор для сегментации цветов, но чтобы понять почему, давайте сначала сравним изображение в `RGB` с изображением в `HSV` пространстве при помощи визуализации распределения цветов. "
   ]
  },
  {
   "cell_type": "code",
   "execution_count": null,
   "metadata": {},
   "outputs": [],
   "source": [
    "# Эти библиотеки нужны для 3Д визуализации\n",
    "from mpl_toolkits.mplot3d import Axes3D\n",
    "from matplotlib import cm\n",
    "from matplotlib import colors"
   ]
  },
  {
   "cell_type": "code",
   "execution_count": null,
   "metadata": {},
   "outputs": [],
   "source": [
    "r, g, b = cv2.split(original_image)\n",
    "\n",
    "fig = plt.figure(figsize=[8, 6])\n",
    "axis = fig.add_subplot(1, 1, 1, projection=\"3d\")\n",
    "pixel_colors = original_image.reshape((np.shape(original_image)[0]*np.shape(original_image)[1], 3))\n",
    "norm = colors.Normalize(vmin=-1.,vmax=1.)\n",
    "norm.autoscale(pixel_colors)\n",
    "pixel_colors = norm(pixel_colors).tolist()\n",
    "axis.scatter(r.flatten(), g.flatten(), b.flatten(), facecolors=pixel_colors, marker=\".\")\n",
    "axis.set_xlabel(\"Red\")\n",
    "axis.set_ylabel(\"Green\")\n",
    "axis.set_zlabel(\"Blue\")\n",
    "plt.show()"
   ]
  },
  {
   "cell_type": "markdown",
   "metadata": {},
   "source": []
  }
 ],
 "metadata": {
  "interpreter": {
   "hash": "34c635c84616f3a4480481715ba1e3be1dbeefd6854b0fa1993fac6b8836a8b2"
  },
  "kernelspec": {
   "display_name": "Python 3.8.10 64-bit ('.venv': poetry)",
   "language": "python",
   "name": "python3"
  },
  "language_info": {
   "codemirror_mode": {
    "name": "ipython",
    "version": 3
   },
   "file_extension": ".py",
   "mimetype": "text/x-python",
   "name": "python",
   "nbconvert_exporter": "python",
   "pygments_lexer": "ipython3",
   "version": "3.8.10"
  }
 },
 "nbformat": 4,
 "nbformat_minor": 2
}
