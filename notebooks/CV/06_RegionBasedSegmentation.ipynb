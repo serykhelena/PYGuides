{
 "cells": [
  {
   "cell_type": "markdown",
   "metadata": {},
   "source": [
    "# Сегментация на базе цветов"
   ]
  },
  {
   "cell_type": "markdown",
   "metadata": {},
   "source": [
    "Один из самых простых способов сегментировать разные объекты - это использовать значения их пикселей. Важно отметить, что значения пикселей будут разными для фона и для самого объекта только если между ними есть какой-то контраст. \n",
    "\n",
    "В этом случае мы можем подобрать такое пороговое значение, чтобы отделить объект от фона. Такой подход называется пороговой сегментацией (Threshold segmentation). "
   ]
  },
  {
   "cell_type": "markdown",
   "metadata": {},
   "source": [
    "Давайте загрузим нашу тестовую картинку"
   ]
  },
  {
   "cell_type": "code",
   "execution_count": null,
   "metadata": {},
   "outputs": [],
   "source": [
    "import os \n",
    "\n",
    "import cv2 \n",
    "import matplotlib.pyplot as plt \n",
    "import numpy as np\n",
    "\n",
    "from skimage.color import rgb2gray"
   ]
  },
  {
   "cell_type": "code",
   "execution_count": null,
   "metadata": {},
   "outputs": [],
   "source": [
    "fpath = os.path.join(os.pardir, \"assets\", \"cv_21.jpeg\")\n",
    "original_image = cv2.imread(fpath)\n",
    "original_image = cv2.cvtColor(original_image, cv2.COLOR_BGR2RGB)\n",
    "\n",
    "plt.figure(figsize=[6, 6])\n",
    "plt.imshow(original_image)\n",
    "plt.show()"
   ]
  },
  {
   "cell_type": "markdown",
   "metadata": {},
   "source": [
    "Сконвертируем картинку в оттенки серого."
   ]
  },
  {
   "cell_type": "code",
   "execution_count": null,
   "metadata": {},
   "outputs": [],
   "source": [
    "gray_img = rgb2gray(original_image)\n",
    "\n",
    "plt.figure(figsize=[6, 6])\n",
    "plt.imshow(gray_img, cmap=\"gray\")\n",
    "plt.show()"
   ]
  },
  {
   "cell_type": "markdown",
   "metadata": {},
   "source": [
    "А теперь мы хотим применить определённое пороговое значение к этому изображению. Этот порог дожен разделять картинку на 2 части: передний фон и задний фон. \n",
    "\n",
    "Но прежде чем начать подбирать такое значение, давайте посмотрим на размеры картинки. "
   ]
  },
  {
   "cell_type": "code",
   "execution_count": null,
   "metadata": {},
   "outputs": [],
   "source": [
    "print(f\"Размеры картинки: {gray_img.shape}\")"
   ]
  },
  {
   "cell_type": "markdown",
   "metadata": {},
   "source": [
    "Мы видим, что высота картинки = 192 пикселя, а ширина - 263 пикселя. \n",
    "\n",
    "Давайте возьмём среднее значение пикселей и будем использовать это как порог. \n",
    "\n",
    "Если значение пикселя больше, чем пороговое, то мы считает, что этот пиксель принадлежит переднему фону (объекту), если меньше, то принадлежит заднему фону. "
   ]
  },
  {
   "cell_type": "code",
   "execution_count": null,
   "metadata": {},
   "outputs": [],
   "source": [
    "# делаем из матрицы вектор, чтобы удобнее было считать среднее значение \n",
    "#   и итерироваться по пикселям\n",
    "gray_raw = gray_img.reshape(gray_img.shape[0]*gray_img.shape[1])\n",
    "\n",
    "# Итерируемся по каждому пикселю изображению\n",
    "for i in range(gray_raw.shape[0]):\n",
    "    if gray_raw[i] > gray_raw.mean():\n",
    "        gray_raw[i] = 1\n",
    "    else:\n",
    "        gray_raw[i] = 0\n",
    "# конвертируем из вектора обратно в матрицу (картинку)\n",
    "gray_thresholded = gray_raw.reshape(gray_img.shape[0],gray_img.shape[1])\n",
    "\n",
    "plt.figure(figsize=[6, 6])\n",
    "plt.imshow(gray_thresholded, cmap=\"gray\")\n",
    "plt.show()"
   ]
  },
  {
   "cell_type": "markdown",
   "metadata": {},
   "source": [
    "Более тёмные области относятся к заднему фону, белые области относятся к переднему фону. \n",
    "\n",
    "Давайте попробуем определить несколько пороговых значений, чтобы сегментировать несколько объектов."
   ]
  },
  {
   "cell_type": "code",
   "execution_count": null,
   "metadata": {},
   "outputs": [],
   "source": [
    "gray_r = gray_img.reshape(gray_img.shape[0]*gray_img.shape[1])\n",
    "for i in range(gray_r.shape[0]):\n",
    "    if gray_r[i] > gray_r.mean():\n",
    "        gray_r[i] = 3\n",
    "    elif gray_r[i] > 0.5:\n",
    "        gray_r[i] = 2\n",
    "    elif gray_r[i] > 0.25:\n",
    "        gray_r[i] = 1\n",
    "    else:\n",
    "        gray_r[i] = 0\n",
    "gray_multi_thresholded = gray_r.reshape(gray_img.shape[0],gray_img.shape[1])\n",
    "plt.imshow(gray_multi_thresholded, cmap='gray')"
   ]
  },
  {
   "cell_type": "markdown",
   "metadata": {},
   "source": [
    "Теперь мы видим разные сегменты на картинке. \n",
    "\n",
    "## Заключение\n",
    "\n",
    "Достоинства данного метода: \n",
    "\n",
    "* используются очень простые вычисления \n",
    "* все вычисления считаются быстро \n",
    "* при высоком констрасте между объектами, этот метод даёт хорошие результаты \n",
    "\n",
    "Но как обычно, если ложка дёгтя: \n",
    "\n",
    "* когда у нас нет констраста между объектами на картинке\n",
    "* есть перекрытие значений пикселей \n",
    "\n",
    "то получить хорошие результаты очень трудно и не стоит вообще усилий. "
   ]
  },
  {
   "cell_type": "markdown",
   "metadata": {},
   "source": [
    "## Полезные ссылки \n",
    "\n",
    "* [Introduction to Image Segmentation Techniques](https://www.analyticsvidhya.com/blog/2019/04/introduction-image-segmentation-techniques-python/)"
   ]
  }
 ],
 "metadata": {
  "interpreter": {
   "hash": "34c635c84616f3a4480481715ba1e3be1dbeefd6854b0fa1993fac6b8836a8b2"
  },
  "kernelspec": {
   "display_name": "Python 3.8.10 64-bit ('.venv': poetry)",
   "language": "python",
   "name": "python3"
  },
  "language_info": {
   "codemirror_mode": {
    "name": "ipython",
    "version": 3
   },
   "file_extension": ".py",
   "mimetype": "text/x-python",
   "name": "python",
   "nbconvert_exporter": "python",
   "pygments_lexer": "ipython3",
   "version": "3.8.10"
  }
 },
 "nbformat": 4,
 "nbformat_minor": 2
}
