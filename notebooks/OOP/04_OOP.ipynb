{
 "cells": [
  {
   "cell_type": "markdown",
   "metadata": {},
   "source": [
    "# Инкапсуляция"
   ]
  },
  {
   "cell_type": "markdown",
   "metadata": {},
   "source": [
    "Принцип, которые хуже всего понимается людьми. Т.к. есть 2 трактовки, отличающиеся друг от друга.\n",
    "\n",
    "\n",
    "(Упрощённо)\n",
    "\n",
    "1. Есть данные и есть функции (методы), которые вертят этими данными"
   ]
  },
  {
   "cell_type": "code",
   "execution_count": 1,
   "metadata": {},
   "outputs": [],
   "source": [
    "class Cat: \n",
    "    def __init__(self, name):\n",
    "        # вот данные - имя котика\n",
    "        self.name = name \n",
    "        self.name10 = 'super-secret-name'\n",
    "    \n",
    "    # а вот метод, которые выдаёт ДАННЫЕ наружу \n",
    "    def get_name(self):\n",
    "        return self.name \n",
    "    \n",
    "    def set_name(self, name):\n",
    "        self.name = name"
   ]
  },
  {
   "cell_type": "code",
   "execution_count": 2,
   "metadata": {},
   "outputs": [
    {
     "name": "stdout",
     "output_type": "stream",
     "text": [
      "Method Call:\t Sheldon\n",
      "Attribute Call:\t Sheldon\n"
     ]
    }
   ],
   "source": [
    "my_cat = Cat('Sheldon')\n",
    "# доступ к данным (имени котика) происходит ТОЛЬКО через метод \n",
    "print('Method Call:\\t', my_cat.get_name())\n",
    "\n",
    "# если сделать так, то инкапсуляция будет нарушена\n",
    "print('Attribute Call:\\t', my_cat.name)"
   ]
  },
  {
   "cell_type": "markdown",
   "metadata": {},
   "source": [
    "(Упрощённо) \n",
    "\n",
    "2. Есть инструмент, который умеет ограничивать доступ к данным (например, приватные методы)"
   ]
  },
  {
   "cell_type": "code",
   "execution_count": 3,
   "metadata": {},
   "outputs": [],
   "source": [
    "class Cat: \n",
    "    def __init__(self, name):\n",
    "        # вот данные - имя котика\n",
    "        self.name = name \n",
    "    \n",
    "    # по соглашению, этот метод нельзя вызывать снаружи \n",
    "    def _calculate_name_length(self): \n",
    "        return len(self.name)\n",
    "    \n",
    "    # а вот методы, которые выдают ДАННЫЕ наружу \n",
    "    def get_name(self):\n",
    "        return self.name \n",
    "\n",
    "    def get_name_length(self):\n",
    "        length = self._calculate_name_length()\n",
    "        return length "
   ]
  },
  {
   "cell_type": "code",
   "execution_count": 4,
   "metadata": {},
   "outputs": [
    {
     "data": {
      "text/plain": [
       "7"
      ]
     },
     "execution_count": 4,
     "metadata": {},
     "output_type": "execute_result"
    }
   ],
   "source": [
    "my_cat = Cat('Sheldon')\n",
    "\n",
    "# это публичный метод, значит вызывать снаружи его можно \n",
    "my_cat.get_name()\n",
    "\n",
    "# это приватный метод, вызывать снаружи нельзя \n",
    "my_cat._calculate_name_length()\n",
    "\n",
    "# это публичный метод, значит вызывать снаружи его можно \n",
    "my_cat.get_name_length()"
   ]
  },
  {
   "cell_type": "markdown",
   "metadata": {},
   "source": [
    "Обе трактовки правдивы. Но нужно запомнить, что инкапсуляция больше про разделение данных и методов, которые ими управляют. А не про ограничение их \"видимости\".\n",
    "\n",
    "ИНКАПСУЛЯЦИЯ - это НЕ СОКРЫТИЕ!\n",
    "\n",
    "Ограничение используется только в некоторых случаях. \n",
    "НЕ НАДО делать все методы приватными. Это признак плохого кода. \n",
    "\n",
    "Если есть много методов, которые не должны быть выпущены наружу - это повод подумать, а может вынести эти методы в отдельную библиотеку? "
   ]
  },
  {
   "cell_type": "markdown",
   "metadata": {},
   "source": [
    "**Итого** \n",
    "\n",
    "* Объект не должен изменяться снаружи ничем, кроме его собственных методов. \n",
    "* Объект может быть изменён только с помощью своих же методов.\n",
    "\n",
    "Вообще, принципы ООП нужны, чтобы код всегда можно было исправить. Нежданчик, да? \n",
    "\n",
    "Но исправить не так, что переписать весь код полностью. А чтобы исправить только один метод или добавить новый метод и код изменился. Таким образом, ООП даёт нам шанс поддерживать рабочее состояние кода, при этом не страдая и не выкалывая себе глаза из-за многотысячной партянки кода. \n",
    "\n",
    "`Никогда не забывайте, что люди могут не захотеть понимать что делает ваш код, если для этого нужно изучить пять книжек и помнить все термины из них. Любите абстракции, они отсекают лишние подробности и позволяют людям общаться.`"
   ]
  },
  {
   "cell_type": "markdown",
   "metadata": {},
   "source": [
    "## Полезные ссылки\n",
    "\n",
    "* [Инкапсуляция](https://www.youtube.com/watch?v=EvGi6XDgV7w)\n",
    "* [Главная ошибка в ООП - инкапсуляция (осторожно мат)](https://www.youtube.com/watch?v=yNUJ3vAeyJQ)"
   ]
  },
  {
   "cell_type": "markdown",
   "metadata": {},
   "source": []
  }
 ],
 "metadata": {
  "interpreter": {
   "hash": "34c635c84616f3a4480481715ba1e3be1dbeefd6854b0fa1993fac6b8836a8b2"
  },
  "kernelspec": {
   "display_name": "Python 3.8.12 64-bit ('.venv': poetry)",
   "name": "python3"
  },
  "language_info": {
   "codemirror_mode": {
    "name": "ipython",
    "version": 3
   },
   "file_extension": ".py",
   "mimetype": "text/x-python",
   "name": "python",
   "nbconvert_exporter": "python",
   "pygments_lexer": "ipython3",
   "version": "3.8.12"
  }
 },
 "nbformat": 4,
 "nbformat_minor": 2
}
