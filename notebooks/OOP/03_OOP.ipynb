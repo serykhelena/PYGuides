{
 "cells": [
  {
   "cell_type": "markdown",
   "metadata": {},
   "source": [
    "# Полиморфизм"
   ]
  },
  {
   "cell_type": "markdown",
   "metadata": {},
   "source": [
    "<center>В наследниках можно переопределять методы родителя</center>\n",
    "\n",
    "Т.е. для каждого из наследников можно делать свою реализацию метода с одним и тем же именем.\n",
    "\n",
    "<p align=\"center\">\n",
    "<img src=\"https://github.com/serykhelena/PYGuides/blob/main/notebooks/assets/oop_5.png?raw=true\" width=700/>\n",
    "</p>"
   ]
  },
  {
   "cell_type": "markdown",
   "metadata": {},
   "source": [
    "Давайте посмотрим на эту парадигму через знакомых нам уже котиков."
   ]
  },
  {
   "cell_type": "code",
   "execution_count": null,
   "metadata": {},
   "outputs": [],
   "source": [
    "class Cat: \n",
    "    life_form = 'mammal'\n",
    "    def __init__(self):\n",
    "        self.n_legs = 4\n",
    "        self.n_tails = 1 \n",
    "    \n",
    "    def make_noise(self) -> str:\n",
    "        return \"Meow!\"\n",
    "    \n",
    "    def get_breed(self) -> str:\n",
    "        return \"Just cat\""
   ]
  },
  {
   "cell_type": "code",
   "execution_count": null,
   "metadata": {},
   "outputs": [],
   "source": [
    "class MaineCoon(Cat):\n",
    "    def __init__(self, name: str):\n",
    "        super().__init__()\n",
    "\n",
    "        self.name = name\n",
    "    \n",
    "    def get_breed(self) -> str:\n",
    "        return \"Maine Coon\""
   ]
  },
  {
   "cell_type": "code",
   "execution_count": null,
   "metadata": {},
   "outputs": [],
   "source": [
    "class Siamese(Cat):\n",
    "    def __init__(self, name: str):\n",
    "        super().__init__()\n",
    "\n",
    "        self.name = name \n",
    "    \n",
    "    def get_breed(self) -> str:\n",
    "        return \"Siamese\""
   ]
  },
  {
   "cell_type": "code",
   "execution_count": null,
   "metadata": {},
   "outputs": [],
   "source": [
    "cat_1 = Siamese(\"Mila\")\n",
    "cat_2 = MaineCoon(\"Leo\")\n",
    "\n",
    "print(f\"Cat 1 Breed: {cat_1.get_breed()}\")\n",
    "print(f\"Cat 2 Breed: {cat_2.get_breed()}\")"
   ]
  },
  {
   "cell_type": "markdown",
   "metadata": {},
   "source": [
    "И вот каждая порода котов уже может вернуть своё название. "
   ]
  },
  {
   "cell_type": "markdown",
   "metadata": {},
   "source": [
    "## Полезные ссылки\n",
    "\n",
    "* [Полиморфизм](https://www.youtube.com/watch?v=Ay_GwOQWPs8)\n",
    "* [Полиморфизм (осторожно мат)](https://www.youtube.com/watch?v=ve3eAhuaF0s)"
   ]
  }
 ],
 "metadata": {
  "interpreter": {
   "hash": "34c635c84616f3a4480481715ba1e3be1dbeefd6854b0fa1993fac6b8836a8b2"
  },
  "kernelspec": {
   "display_name": "Python 3.8.12 64-bit ('.venv': poetry)",
   "name": "python3"
  },
  "language_info": {
   "codemirror_mode": {
    "name": "ipython",
    "version": 3
   },
   "file_extension": ".py",
   "mimetype": "text/x-python",
   "name": "python",
   "nbconvert_exporter": "python",
   "pygments_lexer": "ipython3",
   "version": "3.8.14"
  }
 },
 "nbformat": 4,
 "nbformat_minor": 2
}
