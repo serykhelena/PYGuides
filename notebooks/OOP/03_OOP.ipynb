{
 "cells": [
  {
   "cell_type": "markdown",
   "metadata": {},
   "source": [
    "# Полиморфизм"
   ]
  },
  {
   "cell_type": "markdown",
   "metadata": {},
   "source": [
    "<center>В наследниках можно переопределять методы родителя</center>\n",
    "\n",
    "Т.е. для каждого из наследников можно делать свою реализацию метода с одним и тем же именем."
   ]
  },
  {
   "cell_type": "code",
   "execution_count": null,
   "metadata": {},
   "outputs": [],
   "source": [
    "class Cat: \n",
    "    life_form = 'mammal'\n",
    "    def __init__(self):\n",
    "        self.n_legs = 4\n",
    "        self.n_tails = 1 \n",
    "    \n",
    "    def make_noise(self) -> str:\n",
    "        return \"Meow!\"\n",
    "    \n",
    "    def get_breed(self) -> str:\n",
    "        return \"Just cat\""
   ]
  },
  {
   "cell_type": "code",
   "execution_count": null,
   "metadata": {},
   "outputs": [],
   "source": [
    "class MaineCoon(Cat):\n",
    "    def __init__(self, name: str):\n",
    "        super().__init__()\n",
    "\n",
    "        self.name = name\n",
    "    \n",
    "    def get_breed(self) -> str:\n",
    "        return \"Maine Coon\""
   ]
  },
  {
   "cell_type": "code",
   "execution_count": null,
   "metadata": {},
   "outputs": [],
   "source": [
    "class Siamese(Cat):\n",
    "    def __init__(self, name: str):\n",
    "        super().__init__()\n",
    "\n",
    "        self.name = name \n",
    "    \n",
    "    def get_breed(self) -> str:\n",
    "        return \"Siamese\""
   ]
  },
  {
   "cell_type": "code",
   "execution_count": null,
   "metadata": {},
   "outputs": [],
   "source": [
    "cat_1 = Siamese(\"Mila\")\n",
    "cat_2 = MaineCoon(\"Leo\")\n",
    "\n",
    "print(f\"Cat 1 Breed: {cat_1.get_breed()}\")\n",
    "print(f\"Cat 2 Breed: {cat_2.get_breed()}\")"
   ]
  },
  {
   "cell_type": "markdown",
   "metadata": {},
   "source": [
    "## Полезные ссылки\n",
    "\n",
    "* [Полиморфизм](https://www.youtube.com/watch?v=Ay_GwOQWPs8)\n",
    "* [Полиморфизм (осторожно мат)](https://www.youtube.com/watch?v=ve3eAhuaF0s)"
   ]
  }
 ],
 "metadata": {
  "interpreter": {
   "hash": "5772b325a4211fdac5a62aebd1ed22a96c3023968afc51ace629e1d3db0df918"
  },
  "kernelspec": {
   "display_name": "Python 3.8.10 64-bit ('.venv': poetry)",
   "name": "python3"
  },
  "language_info": {
   "codemirror_mode": {
    "name": "ipython",
    "version": 3
   },
   "file_extension": ".py",
   "mimetype": "text/x-python",
   "name": "python",
   "nbconvert_exporter": "python",
   "pygments_lexer": "ipython3",
   "version": "3.8.10"
  }
 },
 "nbformat": 4,
 "nbformat_minor": 2
}
