{
 "cells": [
  {
   "cell_type": "markdown",
   "metadata": {},
   "source": [
    "# Принципы ООП"
   ]
  },
  {
   "cell_type": "markdown",
   "metadata": {},
   "source": [
    "ООП круче всего работает в языках со статической типизацией: \n",
    "* С++ \n",
    "* C#\n",
    "* Java\n",
    "\n",
    "Потому что у них есть ряд ограничений и инструменты, чтобы эти ограничения обойти. "
   ]
  },
  {
   "cell_type": "markdown",
   "metadata": {},
   "source": [
    "В языках с динамической типизацией (Python, JavaScript, PHP) с ООП сложнее. Вроде как можно и нужно использовать, но как-то всё гибко и хитро. \n",
    "\n",
    "Но сказать, что ООП в языках с динамической типизацией работает хуже - НЕЛЬЗЯ, т.к. оно работает просто по-другому, не хуже, не лучше. Да и вообще всё это субъективная оценка. На самом деле никто не знает как оно должно быть (= "
   ]
  },
  {
   "cell_type": "markdown",
   "metadata": {},
   "source": [
    "ООП - НЕ ОДНО. Видов ООП - много. Кто как хочет, так и реализует. И это нормально! "
   ]
  },
  {
   "cell_type": "markdown",
   "metadata": {},
   "source": [
    "<p align=\"center\">\n",
    "<img src=\"https://raw.githubusercontent.com/serykhelena/PYGuides/main/notebooks/assets/oop_2.jpg\" width=400/>\n",
    "</p>"
   ]
  },
  {
   "cell_type": "markdown",
   "metadata": {},
   "source": [
    "Это Алан Кей. \n",
    "\n",
    "Он придумал ООП. \n",
    "\n",
    "Крутой чувак, который мало того, что очень шарит в компьютерных науках, так ещё и имеет степень в биологии, философии и ещё круто на гитаре умеет играть. \n",
    "\n",
    "ООП он придумал, посмотрев на живые клетки. Типа, эти хитрые штуки умеют адаптироваться, перестраиваться, восстанавливаться. Чё бы не использовать это в программировании. \n"
   ]
  },
  {
   "cell_type": "markdown",
   "metadata": {},
   "source": [
    "Основные парадигмы (принципы) ООП \n",
    "\n",
    "* Абстракция \n",
    "* Инкапсуляция\n",
    "* Полиморфизм \n",
    "* Наследование "
   ]
  },
  {
   "cell_type": "markdown",
   "metadata": {},
   "source": [
    "<p align=\"center\">\n",
    "<img src=\"https://raw.githubusercontent.com/serykhelena/PYGuides/main/notebooks/assets/oop_1.png\" width=400/>\n",
    "</p>"
   ]
  },
  {
   "cell_type": "markdown",
   "metadata": {},
   "source": [
    "## Полезные ссылки\n",
    "\n",
    "* [Что такое ООП?](https://www.youtube.com/watch?v=M58eiYbM6AE)\n",
    "* [Самые частые заблуждения о ООП (осторожно мат)](https://www.youtube.com/watch?v=BHNt1fcg8iw)"
   ]
  }
 ],
 "metadata": {
  "language_info": {
   "name": "python"
  }
 },
 "nbformat": 4,
 "nbformat_minor": 2
}
