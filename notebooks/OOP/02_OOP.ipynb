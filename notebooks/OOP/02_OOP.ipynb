{
 "cells": [
  {
   "cell_type": "markdown",
   "metadata": {},
   "source": [
    "# Наследование"
   ]
  },
  {
   "cell_type": "markdown",
   "metadata": {},
   "source": [
    "<center>Создание нового класса на основе уже существующего.</center>\n",
    "\n",
    "Ещё называют \"способностью к копированию\". \n",
    "\n",
    "То есть через ООП можно создавать много объектов по образу и подобию другого объекта. Это позволяет не копипастить код по 100500 раз, а один раз нормально написать код и потом много раз его использовать. \n",
    "\n",
    "`Наследник получает в своё распоряжение методы родителей. Если разработчик не очень ответственный, то классы-родители у него будут такие, что выльется в чрезмерное множественное наследование, когда мы можем попасть в прабабушкин метод, вызвав addOne().`\n",
    "\n",
    "* меньше кода (как вариант, но этого можно добиться и другими способами)\n",
    "* формирование **иерархий**\n",
    "\n",
    "**Может быть вредным!** Когда слишком много наследников. Тогда изменение в родительском классе уже страшно вносить, т.к. эти изменения могут повлиять на наследников. И потом придётся всё разгребать. \n",
    "\n",
    "**Вывод**: не стоит злоупотреблять наследованием!"
   ]
  },
  {
   "cell_type": "markdown",
   "metadata": {},
   "source": [
    "<p align=\"center\">\n",
    "<img src=\"https://github.com/serykhelena/PYGuides/blob/main/notebooks/assets/oop_4.jpg?raw=true\" width=700/>\n",
    "</p>"
   ]
  },
  {
   "cell_type": "markdown",
   "metadata": {},
   "source": [
    "Например, у нас есть класс - \"Котик\". \n",
    "\n",
    "Мы знаем, что у большинства котов есть 4 лапы и 1 хвост, а ещё котики - это млекопитающие животные. Это общая черта для всех котиков. И у Мейн Кунов и у Сиамских.\n",
    "\n",
    "В этом случае получается, что класс \"Котик\" - это родитель для классов \"Мейн Кун\" и \"Сиамская\".\n",
    "\n",
    "`Важно отметить, что как только у нас появляются конкретные виды котиков, мы уже не можем представить реальный объект класса \"Котик\", ибо не знаем кто именно должен получиться. Поэтому если вы скажете другому человеку: \"Пожалуйста, нарисуй котика.\", результат может вас удивить.`"
   ]
  },
  {
   "cell_type": "code",
   "execution_count": 1,
   "metadata": {},
   "outputs": [],
   "source": [
    "class Cat: \n",
    "    life_form = 'mammal'\n",
    "    def __init__(self):\n",
    "        self.n_legs = 4\n",
    "        self.n_tails = 1 \n",
    "    \n",
    "    def make_noise(self) -> str:\n",
    "        return \"Meow!\""
   ]
  },
  {
   "cell_type": "code",
   "execution_count": 2,
   "metadata": {},
   "outputs": [],
   "source": [
    "class MaineCoon(Cat):\n",
    "    def __init__(self, name: str):\n",
    "        super().__init__()\n",
    "\n",
    "        self.name = name"
   ]
  },
  {
   "cell_type": "code",
   "execution_count": 3,
   "metadata": {},
   "outputs": [],
   "source": [
    "class Siamese(Cat):\n",
    "    def __init__(self, name: str):\n",
    "        super().__init__()\n",
    "\n",
    "        self.name = name "
   ]
  },
  {
   "cell_type": "code",
   "execution_count": 4,
   "metadata": {},
   "outputs": [
    {
     "data": {
      "text/plain": [
       "'Meow!'"
      ]
     },
     "execution_count": 4,
     "metadata": {},
     "output_type": "execute_result"
    }
   ],
   "source": [
    "cat_1 = Siamese(\"Mila\")\n",
    "cat_1.make_noise()"
   ]
  },
  {
   "cell_type": "code",
   "execution_count": 5,
   "metadata": {},
   "outputs": [
    {
     "data": {
      "text/plain": [
       "'Meow!'"
      ]
     },
     "execution_count": 5,
     "metadata": {},
     "output_type": "execute_result"
    }
   ],
   "source": [
    "cat_2 = MaineCoon(\"Leo\")\n",
    "cat_2.make_noise()"
   ]
  },
  {
   "cell_type": "code",
   "execution_count": 6,
   "metadata": {},
   "outputs": [
    {
     "data": {
      "text/plain": [
       "(4, 4)"
      ]
     },
     "execution_count": 6,
     "metadata": {},
     "output_type": "execute_result"
    }
   ],
   "source": [
    "cat_1.n_legs, cat_2.n_legs"
   ]
  },
  {
   "cell_type": "code",
   "execution_count": 7,
   "metadata": {},
   "outputs": [
    {
     "data": {
      "text/plain": [
       "(1, 1)"
      ]
     },
     "execution_count": 7,
     "metadata": {},
     "output_type": "execute_result"
    }
   ],
   "source": [
    "cat_1.n_tails, cat_2.n_tails"
   ]
  },
  {
   "cell_type": "code",
   "execution_count": 8,
   "metadata": {},
   "outputs": [
    {
     "data": {
      "text/plain": [
       "('mammal', 'mammal')"
      ]
     },
     "execution_count": 8,
     "metadata": {},
     "output_type": "execute_result"
    }
   ],
   "source": [
    "cat_1.life_form, cat_2.life_form"
   ]
  },
  {
   "cell_type": "markdown",
   "metadata": {},
   "source": [
    "## Полезные ссылки\n",
    "\n",
    "* [Наследование](https://www.youtube.com/watch?v=eI0XzQw3V0Q)"
   ]
  },
  {
   "cell_type": "markdown",
   "metadata": {},
   "source": []
  }
 ],
 "metadata": {
  "interpreter": {
   "hash": "34c635c84616f3a4480481715ba1e3be1dbeefd6854b0fa1993fac6b8836a8b2"
  },
  "kernelspec": {
   "display_name": "Python 3.8.12 64-bit ('.venv': poetry)",
   "name": "python3"
  },
  "language_info": {
   "codemirror_mode": {
    "name": "ipython",
    "version": 3
   },
   "file_extension": ".py",
   "mimetype": "text/x-python",
   "name": "python",
   "nbconvert_exporter": "python",
   "pygments_lexer": "ipython3",
   "version": "3.8.12"
  }
 },
 "nbformat": 4,
 "nbformat_minor": 2
}
